{
 "cells": [
  {
   "cell_type": "code",
   "execution_count": 3,
   "metadata": {},
   "outputs": [],
   "source": [
    "import torch\n",
    "from ultralytics import YOLO"
   ]
  },
  {
   "cell_type": "code",
   "execution_count": 4,
   "metadata": {},
   "outputs": [],
   "source": [
    "model = YOLO(\"yolov8s.pt\")  # load model (from pretrained)"
   ]
  },
  {
   "cell_type": "code",
   "execution_count": 5,
   "metadata": {},
   "outputs": [
    {
     "name": "stdout",
     "output_type": "stream",
     "text": [
      "New https://pypi.org/project/ultralytics/8.3.87 available  Update with 'pip install -U ultralytics'\n",
      "Ultralytics 8.3.70  Python-3.11.0 torch-2.5.1+cu118 CUDA:0 (NVIDIA GeForce RTX 3060 Laptop GPU, 6144MiB)\n",
      "\u001b[34m\u001b[1mengine\\trainer: \u001b[0mtask=detect, mode=train, model=yolov8s.pt, data=dataset.yaml, epochs=50, time=None, patience=100, batch=8, imgsz=640, save=True, save_period=-1, cache=False, device=None, workers=8, project=None, name=train21, exist_ok=False, pretrained=True, optimizer=auto, verbose=True, seed=0, deterministic=True, single_cls=False, rect=False, cos_lr=False, close_mosaic=10, resume=False, amp=True, fraction=1.0, profile=False, freeze=None, multi_scale=False, overlap_mask=True, mask_ratio=4, dropout=0.0, val=True, split=val, save_json=False, save_hybrid=False, conf=None, iou=0.7, max_det=300, half=False, dnn=False, plots=True, source=None, vid_stride=1, stream_buffer=False, visualize=False, augment=False, agnostic_nms=False, classes=None, retina_masks=False, embed=None, show=False, save_frames=False, save_txt=False, save_conf=False, save_crop=False, show_labels=True, show_conf=True, show_boxes=True, line_width=None, format=torchscript, keras=False, optimize=False, int8=False, dynamic=False, simplify=True, opset=None, workspace=None, nms=False, lr0=0.01, lrf=0.01, momentum=0.937, weight_decay=0.0005, warmup_epochs=3.0, warmup_momentum=0.8, warmup_bias_lr=0.1, box=7.5, cls=0.5, dfl=1.5, pose=12.0, kobj=1.0, nbs=64, hsv_h=0.015, hsv_s=0.7, hsv_v=0.4, degrees=0.0, translate=0.1, scale=0.5, shear=0.0, perspective=0.0, flipud=0.0, fliplr=0.5, bgr=0.0, mosaic=1.0, mixup=0.0, copy_paste=0.0, copy_paste_mode=flip, auto_augment=randaugment, erasing=0.4, crop_fraction=1.0, cfg=None, tracker=botsort.yaml, save_dir=runs\\detect\\train21\n",
      "Overriding model.yaml nc=80 with nc=1\n",
      "\n",
      "                   from  n    params  module                                       arguments                     \n",
      "  0                  -1  1       928  ultralytics.nn.modules.conv.Conv             [3, 32, 3, 2]                 \n",
      "  1                  -1  1     18560  ultralytics.nn.modules.conv.Conv             [32, 64, 3, 2]                \n",
      "  2                  -1  1     29056  ultralytics.nn.modules.block.C2f             [64, 64, 1, True]             \n",
      "  3                  -1  1     73984  ultralytics.nn.modules.conv.Conv             [64, 128, 3, 2]               \n",
      "  4                  -1  2    197632  ultralytics.nn.modules.block.C2f             [128, 128, 2, True]           \n",
      "  5                  -1  1    295424  ultralytics.nn.modules.conv.Conv             [128, 256, 3, 2]              \n",
      "  6                  -1  2    788480  ultralytics.nn.modules.block.C2f             [256, 256, 2, True]           \n",
      "  7                  -1  1   1180672  ultralytics.nn.modules.conv.Conv             [256, 512, 3, 2]              \n",
      "  8                  -1  1   1838080  ultralytics.nn.modules.block.C2f             [512, 512, 1, True]           \n",
      "  9                  -1  1    656896  ultralytics.nn.modules.block.SPPF            [512, 512, 5]                 \n",
      " 10                  -1  1         0  torch.nn.modules.upsampling.Upsample         [None, 2, 'nearest']          \n",
      " 11             [-1, 6]  1         0  ultralytics.nn.modules.conv.Concat           [1]                           \n",
      " 12                  -1  1    591360  ultralytics.nn.modules.block.C2f             [768, 256, 1]                 \n",
      " 13                  -1  1         0  torch.nn.modules.upsampling.Upsample         [None, 2, 'nearest']          \n",
      " 14             [-1, 4]  1         0  ultralytics.nn.modules.conv.Concat           [1]                           \n",
      " 15                  -1  1    148224  ultralytics.nn.modules.block.C2f             [384, 128, 1]                 \n",
      " 16                  -1  1    147712  ultralytics.nn.modules.conv.Conv             [128, 128, 3, 2]              \n",
      " 17            [-1, 12]  1         0  ultralytics.nn.modules.conv.Concat           [1]                           \n",
      " 18                  -1  1    493056  ultralytics.nn.modules.block.C2f             [384, 256, 1]                 \n",
      " 19                  -1  1    590336  ultralytics.nn.modules.conv.Conv             [256, 256, 3, 2]              \n",
      " 20             [-1, 9]  1         0  ultralytics.nn.modules.conv.Concat           [1]                           \n",
      " 21                  -1  1   1969152  ultralytics.nn.modules.block.C2f             [768, 512, 1]                 \n",
      " 22        [15, 18, 21]  1   2116435  ultralytics.nn.modules.head.Detect           [1, [128, 256, 512]]          \n",
      "Model summary: 225 layers, 11,135,987 parameters, 11,135,971 gradients, 28.6 GFLOPs\n",
      "\n",
      "Transferred 349/355 items from pretrained weights\n",
      "Freezing layer 'model.22.dfl.conv.weight'\n",
      "\u001b[34m\u001b[1mAMP: \u001b[0mrunning Automatic Mixed Precision (AMP) checks...\n",
      "\u001b[34m\u001b[1mAMP: \u001b[0mchecks passed \n"
     ]
    },
    {
     "name": "stderr",
     "output_type": "stream",
     "text": [
      "\u001b[34m\u001b[1mtrain: \u001b[0mScanning C:\\Users\\antan\\Desktop\\EEC174\\AURA\\YoloDoorDetector\\Training_Testing\\KemperDataset\\train\\labels.cache... 246 images, 33 backgrounds, 0 corrupt: 100%|██████████| 246/246 [00:00<?, ?it/s]\n",
      "\u001b[34m\u001b[1mval: \u001b[0mScanning C:\\Users\\antan\\Desktop\\EEC174\\AURA\\YoloDoorDetector\\Training_Testing\\KemperDataset\\valid\\labels.cache... 70 images, 5 backgrounds, 0 corrupt: 100%|██████████| 70/70 [00:00<?, ?it/s]\n"
     ]
    },
    {
     "name": "stdout",
     "output_type": "stream",
     "text": [
      "Plotting labels to runs\\detect\\train21\\labels.jpg... \n",
      "\u001b[34m\u001b[1moptimizer:\u001b[0m 'optimizer=auto' found, ignoring 'lr0=0.01' and 'momentum=0.937' and determining best 'optimizer', 'lr0' and 'momentum' automatically... \n",
      "\u001b[34m\u001b[1moptimizer:\u001b[0m AdamW(lr=0.002, momentum=0.9) with parameter groups 57 weight(decay=0.0), 64 weight(decay=0.0005), 63 bias(decay=0.0)\n",
      "Image sizes 640 train, 640 val\n",
      "Using 8 dataloader workers\n",
      "Logging results to \u001b[1mruns\\detect\\train21\u001b[0m\n",
      "Starting training for 50 epochs...\n",
      "\n",
      "      Epoch    GPU_mem   box_loss   cls_loss   dfl_loss  Instances       Size\n"
     ]
    },
    {
     "name": "stderr",
     "output_type": "stream",
     "text": [
      "       1/50      2.07G      1.187      2.482      1.439         13        640: 100%|██████████| 31/31 [00:08<00:00,  3.67it/s]\n",
      "                 Class     Images  Instances      Box(P          R      mAP50  mAP50-95): 100%|██████████| 5/5 [00:00<00:00,  5.50it/s]"
     ]
    },
    {
     "name": "stdout",
     "output_type": "stream",
     "text": [
      "                   all         70         93      0.289      0.118      0.117     0.0511\n"
     ]
    },
    {
     "name": "stderr",
     "output_type": "stream",
     "text": [
      "\n"
     ]
    },
    {
     "name": "stdout",
     "output_type": "stream",
     "text": [
      "\n",
      "      Epoch    GPU_mem   box_loss   cls_loss   dfl_loss  Instances       Size\n"
     ]
    },
    {
     "name": "stderr",
     "output_type": "stream",
     "text": [
      "       2/50      2.12G      1.208       1.75      1.422         14        640: 100%|██████████| 31/31 [00:04<00:00,  6.89it/s]\n",
      "                 Class     Images  Instances      Box(P          R      mAP50  mAP50-95): 100%|██████████| 5/5 [00:00<00:00,  7.89it/s]"
     ]
    },
    {
     "name": "stdout",
     "output_type": "stream",
     "text": [
      "                   all         70         93      0.123      0.387     0.0925      0.028\n"
     ]
    },
    {
     "name": "stderr",
     "output_type": "stream",
     "text": [
      "\n"
     ]
    },
    {
     "name": "stdout",
     "output_type": "stream",
     "text": [
      "\n",
      "      Epoch    GPU_mem   box_loss   cls_loss   dfl_loss  Instances       Size\n"
     ]
    },
    {
     "name": "stderr",
     "output_type": "stream",
     "text": [
      "       3/50       2.1G      1.344      1.668      1.522         15        640: 100%|██████████| 31/31 [00:04<00:00,  7.30it/s]\n",
      "                 Class     Images  Instances      Box(P          R      mAP50  mAP50-95): 100%|██████████| 5/5 [00:00<00:00,  7.80it/s]"
     ]
    },
    {
     "name": "stdout",
     "output_type": "stream",
     "text": [
      "                   all         70         93      0.323      0.538      0.267      0.101\n"
     ]
    },
    {
     "name": "stderr",
     "output_type": "stream",
     "text": [
      "\n"
     ]
    },
    {
     "name": "stdout",
     "output_type": "stream",
     "text": [
      "\n",
      "      Epoch    GPU_mem   box_loss   cls_loss   dfl_loss  Instances       Size\n"
     ]
    },
    {
     "name": "stderr",
     "output_type": "stream",
     "text": [
      "       4/50      2.09G      1.457       1.55      1.564         14        640: 100%|██████████| 31/31 [00:04<00:00,  7.26it/s]\n",
      "                 Class     Images  Instances      Box(P          R      mAP50  mAP50-95): 100%|██████████| 5/5 [00:00<00:00,  7.86it/s]"
     ]
    },
    {
     "name": "stdout",
     "output_type": "stream",
     "text": [
      "                   all         70         93     0.0665      0.376     0.0527     0.0143\n"
     ]
    },
    {
     "name": "stderr",
     "output_type": "stream",
     "text": [
      "\n"
     ]
    },
    {
     "name": "stdout",
     "output_type": "stream",
     "text": [
      "\n",
      "      Epoch    GPU_mem   box_loss   cls_loss   dfl_loss  Instances       Size\n"
     ]
    },
    {
     "name": "stderr",
     "output_type": "stream",
     "text": [
      "       5/50       2.1G      1.409      1.351      1.545         14        640: 100%|██████████| 31/31 [00:04<00:00,  7.30it/s]\n",
      "                 Class     Images  Instances      Box(P          R      mAP50  mAP50-95): 100%|██████████| 5/5 [00:00<00:00,  7.94it/s]"
     ]
    },
    {
     "name": "stdout",
     "output_type": "stream",
     "text": [
      "                   all         70         93     0.0296      0.129    0.00969    0.00235\n"
     ]
    },
    {
     "name": "stderr",
     "output_type": "stream",
     "text": [
      "\n"
     ]
    },
    {
     "name": "stdout",
     "output_type": "stream",
     "text": [
      "\n",
      "      Epoch    GPU_mem   box_loss   cls_loss   dfl_loss  Instances       Size\n"
     ]
    },
    {
     "name": "stderr",
     "output_type": "stream",
     "text": [
      "       6/50      2.15G      1.338      1.363      1.503         11        640: 100%|██████████| 31/31 [00:04<00:00,  7.35it/s]\n",
      "                 Class     Images  Instances      Box(P          R      mAP50  mAP50-95): 100%|██████████| 5/5 [00:00<00:00,  7.91it/s]"
     ]
    },
    {
     "name": "stdout",
     "output_type": "stream",
     "text": [
      "                   all         70         93      0.129       0.29     0.0993     0.0328\n"
     ]
    },
    {
     "name": "stderr",
     "output_type": "stream",
     "text": [
      "\n"
     ]
    },
    {
     "name": "stdout",
     "output_type": "stream",
     "text": [
      "\n",
      "      Epoch    GPU_mem   box_loss   cls_loss   dfl_loss  Instances       Size\n"
     ]
    },
    {
     "name": "stderr",
     "output_type": "stream",
     "text": [
      "       7/50      2.07G      1.247      1.213      1.442         15        640: 100%|██████████| 31/31 [00:04<00:00,  7.27it/s]\n",
      "                 Class     Images  Instances      Box(P          R      mAP50  mAP50-95): 100%|██████████| 5/5 [00:00<00:00,  7.65it/s]"
     ]
    },
    {
     "name": "stdout",
     "output_type": "stream",
     "text": [
      "                   all         70         93      0.122      0.247      0.122     0.0302\n"
     ]
    },
    {
     "name": "stderr",
     "output_type": "stream",
     "text": [
      "\n"
     ]
    },
    {
     "name": "stdout",
     "output_type": "stream",
     "text": [
      "\n",
      "      Epoch    GPU_mem   box_loss   cls_loss   dfl_loss  Instances       Size\n"
     ]
    },
    {
     "name": "stderr",
     "output_type": "stream",
     "text": [
      "       8/50       2.1G      1.283      1.169      1.456         13        640: 100%|██████████| 31/31 [00:04<00:00,  7.20it/s]\n",
      "                 Class     Images  Instances      Box(P          R      mAP50  mAP50-95): 100%|██████████| 5/5 [00:00<00:00,  7.50it/s]"
     ]
    },
    {
     "name": "stdout",
     "output_type": "stream",
     "text": [
      "                   all         70         93      0.595      0.495      0.558        0.3\n"
     ]
    },
    {
     "name": "stderr",
     "output_type": "stream",
     "text": [
      "\n"
     ]
    },
    {
     "name": "stdout",
     "output_type": "stream",
     "text": [
      "\n",
      "      Epoch    GPU_mem   box_loss   cls_loss   dfl_loss  Instances       Size\n"
     ]
    },
    {
     "name": "stderr",
     "output_type": "stream",
     "text": [
      "       9/50      2.17G      1.168      1.079      1.364         14        640: 100%|██████████| 31/31 [00:04<00:00,  7.17it/s]\n",
      "                 Class     Images  Instances      Box(P          R      mAP50  mAP50-95): 100%|██████████| 5/5 [00:00<00:00,  7.85it/s]"
     ]
    },
    {
     "name": "stdout",
     "output_type": "stream",
     "text": [
      "                   all         70         93      0.671      0.538      0.565      0.276\n"
     ]
    },
    {
     "name": "stderr",
     "output_type": "stream",
     "text": [
      "\n"
     ]
    },
    {
     "name": "stdout",
     "output_type": "stream",
     "text": [
      "\n",
      "      Epoch    GPU_mem   box_loss   cls_loss   dfl_loss  Instances       Size\n"
     ]
    },
    {
     "name": "stderr",
     "output_type": "stream",
     "text": [
      "      10/50      2.09G      1.312      1.159      1.439          9        640: 100%|██████████| 31/31 [00:04<00:00,  7.25it/s]\n",
      "                 Class     Images  Instances      Box(P          R      mAP50  mAP50-95): 100%|██████████| 5/5 [00:00<00:00,  7.90it/s]"
     ]
    },
    {
     "name": "stdout",
     "output_type": "stream",
     "text": [
      "                   all         70         93      0.899      0.656      0.793      0.456\n"
     ]
    },
    {
     "name": "stderr",
     "output_type": "stream",
     "text": [
      "\n"
     ]
    },
    {
     "name": "stdout",
     "output_type": "stream",
     "text": [
      "\n",
      "      Epoch    GPU_mem   box_loss   cls_loss   dfl_loss  Instances       Size\n"
     ]
    },
    {
     "name": "stderr",
     "output_type": "stream",
     "text": [
      "      11/50      2.09G      1.251      1.085      1.406          9        640: 100%|██████████| 31/31 [00:04<00:00,  7.28it/s]\n",
      "                 Class     Images  Instances      Box(P          R      mAP50  mAP50-95): 100%|██████████| 5/5 [00:00<00:00,  7.69it/s]"
     ]
    },
    {
     "name": "stdout",
     "output_type": "stream",
     "text": [
      "                   all         70         93      0.905      0.714      0.862      0.568\n"
     ]
    },
    {
     "name": "stderr",
     "output_type": "stream",
     "text": [
      "\n"
     ]
    },
    {
     "name": "stdout",
     "output_type": "stream",
     "text": [
      "\n",
      "      Epoch    GPU_mem   box_loss   cls_loss   dfl_loss  Instances       Size\n"
     ]
    },
    {
     "name": "stderr",
     "output_type": "stream",
     "text": [
      "      12/50       2.1G      1.203     0.9405      1.398         11        640: 100%|██████████| 31/31 [00:04<00:00,  7.03it/s]\n",
      "                 Class     Images  Instances      Box(P          R      mAP50  mAP50-95): 100%|██████████| 5/5 [00:00<00:00,  7.78it/s]"
     ]
    },
    {
     "name": "stdout",
     "output_type": "stream",
     "text": [
      "                   all         70         93      0.855      0.828      0.875      0.552\n"
     ]
    },
    {
     "name": "stderr",
     "output_type": "stream",
     "text": [
      "\n"
     ]
    },
    {
     "name": "stdout",
     "output_type": "stream",
     "text": [
      "\n",
      "      Epoch    GPU_mem   box_loss   cls_loss   dfl_loss  Instances       Size\n"
     ]
    },
    {
     "name": "stderr",
     "output_type": "stream",
     "text": [
      "      13/50       2.1G      1.198     0.9354      1.346         13        640: 100%|██████████| 31/31 [00:04<00:00,  7.30it/s]\n",
      "                 Class     Images  Instances      Box(P          R      mAP50  mAP50-95): 100%|██████████| 5/5 [00:00<00:00,  7.89it/s]"
     ]
    },
    {
     "name": "stdout",
     "output_type": "stream",
     "text": [
      "                   all         70         93      0.795      0.839      0.863      0.506\n"
     ]
    },
    {
     "name": "stderr",
     "output_type": "stream",
     "text": [
      "\n"
     ]
    },
    {
     "name": "stdout",
     "output_type": "stream",
     "text": [
      "\n",
      "      Epoch    GPU_mem   box_loss   cls_loss   dfl_loss  Instances       Size\n"
     ]
    },
    {
     "name": "stderr",
     "output_type": "stream",
     "text": [
      "      14/50      2.15G      1.149     0.9315      1.341         15        640: 100%|██████████| 31/31 [00:04<00:00,  7.23it/s]\n",
      "                 Class     Images  Instances      Box(P          R      mAP50  mAP50-95): 100%|██████████| 5/5 [00:00<00:00,  7.79it/s]"
     ]
    },
    {
     "name": "stdout",
     "output_type": "stream",
     "text": [
      "                   all         70         93      0.779      0.797      0.833      0.534\n"
     ]
    },
    {
     "name": "stderr",
     "output_type": "stream",
     "text": [
      "\n"
     ]
    },
    {
     "name": "stdout",
     "output_type": "stream",
     "text": [
      "\n",
      "      Epoch    GPU_mem   box_loss   cls_loss   dfl_loss  Instances       Size\n"
     ]
    },
    {
     "name": "stderr",
     "output_type": "stream",
     "text": [
      "      15/50      2.17G      1.104      0.994      1.365         20        640: 100%|██████████| 31/31 [00:04<00:00,  7.28it/s]\n",
      "                 Class     Images  Instances      Box(P          R      mAP50  mAP50-95): 100%|██████████| 5/5 [00:00<00:00,  7.97it/s]"
     ]
    },
    {
     "name": "stdout",
     "output_type": "stream",
     "text": [
      "                   all         70         93      0.839      0.841      0.898      0.562\n"
     ]
    },
    {
     "name": "stderr",
     "output_type": "stream",
     "text": [
      "\n"
     ]
    },
    {
     "name": "stdout",
     "output_type": "stream",
     "text": [
      "\n",
      "      Epoch    GPU_mem   box_loss   cls_loss   dfl_loss  Instances       Size\n"
     ]
    },
    {
     "name": "stderr",
     "output_type": "stream",
     "text": [
      "      16/50      2.17G      1.155     0.9615      1.364         13        640: 100%|██████████| 31/31 [00:04<00:00,  7.15it/s]\n",
      "                 Class     Images  Instances      Box(P          R      mAP50  mAP50-95): 100%|██████████| 5/5 [00:00<00:00,  7.96it/s]"
     ]
    },
    {
     "name": "stdout",
     "output_type": "stream",
     "text": [
      "                   all         70         93       0.77      0.763      0.814      0.466\n"
     ]
    },
    {
     "name": "stderr",
     "output_type": "stream",
     "text": [
      "\n"
     ]
    },
    {
     "name": "stdout",
     "output_type": "stream",
     "text": [
      "\n",
      "      Epoch    GPU_mem   box_loss   cls_loss   dfl_loss  Instances       Size\n"
     ]
    },
    {
     "name": "stderr",
     "output_type": "stream",
     "text": [
      "      17/50      2.09G      1.147     0.9101      1.336         14        640: 100%|██████████| 31/31 [00:04<00:00,  7.21it/s]\n",
      "                 Class     Images  Instances      Box(P          R      mAP50  mAP50-95): 100%|██████████| 5/5 [00:00<00:00,  7.94it/s]"
     ]
    },
    {
     "name": "stdout",
     "output_type": "stream",
     "text": [
      "                   all         70         93      0.813       0.72      0.805      0.478\n"
     ]
    },
    {
     "name": "stderr",
     "output_type": "stream",
     "text": [
      "\n"
     ]
    },
    {
     "name": "stdout",
     "output_type": "stream",
     "text": [
      "\n",
      "      Epoch    GPU_mem   box_loss   cls_loss   dfl_loss  Instances       Size\n"
     ]
    },
    {
     "name": "stderr",
     "output_type": "stream",
     "text": [
      "      18/50      2.09G       1.11     0.9173      1.319         22        640: 100%|██████████| 31/31 [00:04<00:00,  7.16it/s]\n",
      "                 Class     Images  Instances      Box(P          R      mAP50  mAP50-95): 100%|██████████| 5/5 [00:00<00:00,  7.76it/s]"
     ]
    },
    {
     "name": "stdout",
     "output_type": "stream",
     "text": [
      "                   all         70         93      0.767      0.828      0.823       0.47\n"
     ]
    },
    {
     "name": "stderr",
     "output_type": "stream",
     "text": [
      "\n"
     ]
    },
    {
     "name": "stdout",
     "output_type": "stream",
     "text": [
      "\n",
      "      Epoch    GPU_mem   box_loss   cls_loss   dfl_loss  Instances       Size\n"
     ]
    },
    {
     "name": "stderr",
     "output_type": "stream",
     "text": [
      "      19/50      2.09G      1.054     0.8697      1.293         21        640: 100%|██████████| 31/31 [00:05<00:00,  5.86it/s]\n",
      "                 Class     Images  Instances      Box(P          R      mAP50  mAP50-95): 100%|██████████| 5/5 [00:00<00:00,  7.78it/s]"
     ]
    },
    {
     "name": "stdout",
     "output_type": "stream",
     "text": [
      "                   all         70         93      0.814       0.85      0.901      0.626\n"
     ]
    },
    {
     "name": "stderr",
     "output_type": "stream",
     "text": [
      "\n"
     ]
    },
    {
     "name": "stdout",
     "output_type": "stream",
     "text": [
      "\n",
      "      Epoch    GPU_mem   box_loss   cls_loss   dfl_loss  Instances       Size\n"
     ]
    },
    {
     "name": "stderr",
     "output_type": "stream",
     "text": [
      "      20/50      2.08G     0.9892     0.8197      1.235         14        640: 100%|██████████| 31/31 [00:04<00:00,  6.80it/s]\n",
      "                 Class     Images  Instances      Box(P          R      mAP50  mAP50-95): 100%|██████████| 5/5 [00:00<00:00,  6.76it/s]"
     ]
    },
    {
     "name": "stdout",
     "output_type": "stream",
     "text": [
      "                   all         70         93      0.788      0.802      0.863      0.574\n"
     ]
    },
    {
     "name": "stderr",
     "output_type": "stream",
     "text": [
      "\n"
     ]
    },
    {
     "name": "stdout",
     "output_type": "stream",
     "text": [
      "\n",
      "      Epoch    GPU_mem   box_loss   cls_loss   dfl_loss  Instances       Size\n"
     ]
    },
    {
     "name": "stderr",
     "output_type": "stream",
     "text": [
      "      21/50       2.1G      1.031     0.7995      1.262         17        640: 100%|██████████| 31/31 [00:04<00:00,  7.33it/s]\n",
      "                 Class     Images  Instances      Box(P          R      mAP50  mAP50-95): 100%|██████████| 5/5 [00:00<00:00,  7.97it/s]"
     ]
    },
    {
     "name": "stdout",
     "output_type": "stream",
     "text": [
      "                   all         70         93      0.827      0.753      0.871      0.594\n"
     ]
    },
    {
     "name": "stderr",
     "output_type": "stream",
     "text": [
      "\n"
     ]
    },
    {
     "name": "stdout",
     "output_type": "stream",
     "text": [
      "\n",
      "      Epoch    GPU_mem   box_loss   cls_loss   dfl_loss  Instances       Size\n"
     ]
    },
    {
     "name": "stderr",
     "output_type": "stream",
     "text": [
      "      22/50      2.15G      0.993     0.7896      1.241         18        640: 100%|██████████| 31/31 [00:04<00:00,  7.35it/s]\n",
      "                 Class     Images  Instances      Box(P          R      mAP50  mAP50-95): 100%|██████████| 5/5 [00:00<00:00,  7.33it/s]"
     ]
    },
    {
     "name": "stdout",
     "output_type": "stream",
     "text": [
      "                   all         70         93      0.879       0.86      0.922      0.683\n"
     ]
    },
    {
     "name": "stderr",
     "output_type": "stream",
     "text": [
      "\n"
     ]
    },
    {
     "name": "stdout",
     "output_type": "stream",
     "text": [
      "\n",
      "      Epoch    GPU_mem   box_loss   cls_loss   dfl_loss  Instances       Size\n"
     ]
    },
    {
     "name": "stderr",
     "output_type": "stream",
     "text": [
      "      23/50      2.18G     0.9764      0.756      1.242         21        640: 100%|██████████| 31/31 [00:04<00:00,  7.16it/s]\n",
      "                 Class     Images  Instances      Box(P          R      mAP50  mAP50-95): 100%|██████████| 5/5 [00:00<00:00,  7.60it/s]"
     ]
    },
    {
     "name": "stdout",
     "output_type": "stream",
     "text": [
      "                   all         70         93      0.846      0.914      0.929      0.654\n"
     ]
    },
    {
     "name": "stderr",
     "output_type": "stream",
     "text": [
      "\n"
     ]
    },
    {
     "name": "stdout",
     "output_type": "stream",
     "text": [
      "\n",
      "      Epoch    GPU_mem   box_loss   cls_loss   dfl_loss  Instances       Size\n"
     ]
    },
    {
     "name": "stderr",
     "output_type": "stream",
     "text": [
      "      24/50      2.08G      1.002     0.7992      1.242         14        640: 100%|██████████| 31/31 [00:04<00:00,  7.36it/s]\n",
      "                 Class     Images  Instances      Box(P          R      mAP50  mAP50-95): 100%|██████████| 5/5 [00:00<00:00,  7.59it/s]"
     ]
    },
    {
     "name": "stdout",
     "output_type": "stream",
     "text": [
      "                   all         70         93      0.908      0.871      0.933      0.673\n"
     ]
    },
    {
     "name": "stderr",
     "output_type": "stream",
     "text": [
      "\n"
     ]
    },
    {
     "name": "stdout",
     "output_type": "stream",
     "text": [
      "\n",
      "      Epoch    GPU_mem   box_loss   cls_loss   dfl_loss  Instances       Size\n"
     ]
    },
    {
     "name": "stderr",
     "output_type": "stream",
     "text": [
      "      25/50      2.09G       1.02     0.7958      1.224         14        640: 100%|██████████| 31/31 [00:04<00:00,  7.26it/s]\n",
      "                 Class     Images  Instances      Box(P          R      mAP50  mAP50-95): 100%|██████████| 5/5 [00:00<00:00,  7.72it/s]"
     ]
    },
    {
     "name": "stdout",
     "output_type": "stream",
     "text": [
      "                   all         70         93      0.895      0.921      0.945      0.675\n"
     ]
    },
    {
     "name": "stderr",
     "output_type": "stream",
     "text": [
      "\n"
     ]
    },
    {
     "name": "stdout",
     "output_type": "stream",
     "text": [
      "\n",
      "      Epoch    GPU_mem   box_loss   cls_loss   dfl_loss  Instances       Size\n"
     ]
    },
    {
     "name": "stderr",
     "output_type": "stream",
     "text": [
      "      26/50      2.09G      0.952     0.7484      1.222         19        640: 100%|██████████| 31/31 [00:04<00:00,  6.94it/s]\n",
      "                 Class     Images  Instances      Box(P          R      mAP50  mAP50-95): 100%|██████████| 5/5 [00:00<00:00,  7.95it/s]"
     ]
    },
    {
     "name": "stdout",
     "output_type": "stream",
     "text": [
      "                   all         70         93      0.913      0.849      0.922      0.652\n"
     ]
    },
    {
     "name": "stderr",
     "output_type": "stream",
     "text": [
      "\n"
     ]
    },
    {
     "name": "stdout",
     "output_type": "stream",
     "text": [
      "\n",
      "      Epoch    GPU_mem   box_loss   cls_loss   dfl_loss  Instances       Size\n"
     ]
    },
    {
     "name": "stderr",
     "output_type": "stream",
     "text": [
      "      27/50       2.1G     0.9381     0.7292      1.205         13        640: 100%|██████████| 31/31 [00:04<00:00,  7.35it/s]\n",
      "                 Class     Images  Instances      Box(P          R      mAP50  mAP50-95): 100%|██████████| 5/5 [00:00<00:00,  8.09it/s]"
     ]
    },
    {
     "name": "stdout",
     "output_type": "stream",
     "text": [
      "                   all         70         93      0.865      0.825      0.896      0.643\n"
     ]
    },
    {
     "name": "stderr",
     "output_type": "stream",
     "text": [
      "\n"
     ]
    },
    {
     "name": "stdout",
     "output_type": "stream",
     "text": [
      "\n",
      "      Epoch    GPU_mem   box_loss   cls_loss   dfl_loss  Instances       Size\n"
     ]
    },
    {
     "name": "stderr",
     "output_type": "stream",
     "text": [
      "      28/50      2.17G     0.9769     0.7303      1.225         18        640: 100%|██████████| 31/31 [00:04<00:00,  7.34it/s]\n",
      "                 Class     Images  Instances      Box(P          R      mAP50  mAP50-95): 100%|██████████| 5/5 [00:00<00:00,  7.96it/s]"
     ]
    },
    {
     "name": "stdout",
     "output_type": "stream",
     "text": [
      "                   all         70         93      0.888      0.848      0.909      0.656\n"
     ]
    },
    {
     "name": "stderr",
     "output_type": "stream",
     "text": [
      "\n"
     ]
    },
    {
     "name": "stdout",
     "output_type": "stream",
     "text": [
      "\n",
      "      Epoch    GPU_mem   box_loss   cls_loss   dfl_loss  Instances       Size\n"
     ]
    },
    {
     "name": "stderr",
     "output_type": "stream",
     "text": [
      "      29/50      2.18G     0.9394     0.7292      1.213         18        640: 100%|██████████| 31/31 [00:04<00:00,  7.27it/s]\n",
      "                 Class     Images  Instances      Box(P          R      mAP50  mAP50-95): 100%|██████████| 5/5 [00:00<00:00,  7.95it/s]"
     ]
    },
    {
     "name": "stdout",
     "output_type": "stream",
     "text": [
      "                   all         70         93      0.897      0.882      0.906      0.647\n"
     ]
    },
    {
     "name": "stderr",
     "output_type": "stream",
     "text": [
      "\n"
     ]
    },
    {
     "name": "stdout",
     "output_type": "stream",
     "text": [
      "\n",
      "      Epoch    GPU_mem   box_loss   cls_loss   dfl_loss  Instances       Size\n"
     ]
    },
    {
     "name": "stderr",
     "output_type": "stream",
     "text": [
      "      30/50      2.15G     0.9373      0.716      1.213         16        640: 100%|██████████| 31/31 [00:04<00:00,  7.30it/s]\n",
      "                 Class     Images  Instances      Box(P          R      mAP50  mAP50-95): 100%|██████████| 5/5 [00:00<00:00,  8.03it/s]"
     ]
    },
    {
     "name": "stdout",
     "output_type": "stream",
     "text": [
      "                   all         70         93      0.885      0.882      0.911      0.655\n"
     ]
    },
    {
     "name": "stderr",
     "output_type": "stream",
     "text": [
      "\n"
     ]
    },
    {
     "name": "stdout",
     "output_type": "stream",
     "text": [
      "\n",
      "      Epoch    GPU_mem   box_loss   cls_loss   dfl_loss  Instances       Size\n"
     ]
    },
    {
     "name": "stderr",
     "output_type": "stream",
     "text": [
      "      31/50       2.1G      0.898     0.6839        1.2          9        640: 100%|██████████| 31/31 [00:04<00:00,  7.27it/s]\n",
      "                 Class     Images  Instances      Box(P          R      mAP50  mAP50-95): 100%|██████████| 5/5 [00:00<00:00,  8.04it/s]"
     ]
    },
    {
     "name": "stdout",
     "output_type": "stream",
     "text": [
      "                   all         70         93      0.901      0.914      0.937      0.711\n"
     ]
    },
    {
     "name": "stderr",
     "output_type": "stream",
     "text": [
      "\n"
     ]
    },
    {
     "name": "stdout",
     "output_type": "stream",
     "text": [
      "\n",
      "      Epoch    GPU_mem   box_loss   cls_loss   dfl_loss  Instances       Size\n"
     ]
    },
    {
     "name": "stderr",
     "output_type": "stream",
     "text": [
      "      32/50      2.09G     0.9018     0.6893       1.19         13        640: 100%|██████████| 31/31 [00:04<00:00,  7.21it/s]\n",
      "                 Class     Images  Instances      Box(P          R      mAP50  mAP50-95): 100%|██████████| 5/5 [00:00<00:00,  7.84it/s]"
     ]
    },
    {
     "name": "stdout",
     "output_type": "stream",
     "text": [
      "                   all         70         93      0.904      0.913      0.941      0.687\n"
     ]
    },
    {
     "name": "stderr",
     "output_type": "stream",
     "text": [
      "\n"
     ]
    },
    {
     "name": "stdout",
     "output_type": "stream",
     "text": [
      "\n",
      "      Epoch    GPU_mem   box_loss   cls_loss   dfl_loss  Instances       Size\n"
     ]
    },
    {
     "name": "stderr",
     "output_type": "stream",
     "text": [
      "      33/50      2.09G     0.9011     0.6945      1.192         19        640: 100%|██████████| 31/31 [00:04<00:00,  7.19it/s]\n",
      "                 Class     Images  Instances      Box(P          R      mAP50  mAP50-95): 100%|██████████| 5/5 [00:00<00:00,  7.66it/s]"
     ]
    },
    {
     "name": "stdout",
     "output_type": "stream",
     "text": [
      "                   all         70         93      0.923      0.903      0.949      0.711\n"
     ]
    },
    {
     "name": "stderr",
     "output_type": "stream",
     "text": [
      "\n"
     ]
    },
    {
     "name": "stdout",
     "output_type": "stream",
     "text": [
      "\n",
      "      Epoch    GPU_mem   box_loss   cls_loss   dfl_loss  Instances       Size\n"
     ]
    },
    {
     "name": "stderr",
     "output_type": "stream",
     "text": [
      "      34/50      2.17G     0.8601      0.664      1.157         14        640: 100%|██████████| 31/31 [00:04<00:00,  7.18it/s]\n",
      "                 Class     Images  Instances      Box(P          R      mAP50  mAP50-95): 100%|██████████| 5/5 [00:00<00:00,  7.90it/s]"
     ]
    },
    {
     "name": "stdout",
     "output_type": "stream",
     "text": [
      "                   all         70         93      0.874      0.925      0.924      0.689\n"
     ]
    },
    {
     "name": "stderr",
     "output_type": "stream",
     "text": [
      "\n"
     ]
    },
    {
     "name": "stdout",
     "output_type": "stream",
     "text": [
      "\n",
      "      Epoch    GPU_mem   box_loss   cls_loss   dfl_loss  Instances       Size\n"
     ]
    },
    {
     "name": "stderr",
     "output_type": "stream",
     "text": [
      "      35/50      2.09G     0.8911     0.6653      1.193         19        640: 100%|██████████| 31/31 [00:04<00:00,  7.13it/s]\n",
      "                 Class     Images  Instances      Box(P          R      mAP50  mAP50-95): 100%|██████████| 5/5 [00:00<00:00,  7.91it/s]"
     ]
    },
    {
     "name": "stdout",
     "output_type": "stream",
     "text": [
      "                   all         70         93      0.875      0.904      0.924      0.696\n"
     ]
    },
    {
     "name": "stderr",
     "output_type": "stream",
     "text": [
      "\n"
     ]
    },
    {
     "name": "stdout",
     "output_type": "stream",
     "text": [
      "\n",
      "      Epoch    GPU_mem   box_loss   cls_loss   dfl_loss  Instances       Size\n"
     ]
    },
    {
     "name": "stderr",
     "output_type": "stream",
     "text": [
      "      36/50      2.08G     0.8589     0.6366       1.17         17        640: 100%|██████████| 31/31 [00:04<00:00,  7.22it/s]\n",
      "                 Class     Images  Instances      Box(P          R      mAP50  mAP50-95): 100%|██████████| 5/5 [00:00<00:00,  7.70it/s]"
     ]
    },
    {
     "name": "stdout",
     "output_type": "stream",
     "text": [
      "                   all         70         93      0.934      0.935      0.945      0.697\n"
     ]
    },
    {
     "name": "stderr",
     "output_type": "stream",
     "text": [
      "\n"
     ]
    },
    {
     "name": "stdout",
     "output_type": "stream",
     "text": [
      "\n",
      "      Epoch    GPU_mem   box_loss   cls_loss   dfl_loss  Instances       Size\n"
     ]
    },
    {
     "name": "stderr",
     "output_type": "stream",
     "text": [
      "      37/50      2.18G     0.8961     0.6404      1.191          7        640: 100%|██████████| 31/31 [00:04<00:00,  6.99it/s]\n",
      "                 Class     Images  Instances      Box(P          R      mAP50  mAP50-95): 100%|██████████| 5/5 [00:00<00:00,  7.14it/s]"
     ]
    },
    {
     "name": "stdout",
     "output_type": "stream",
     "text": [
      "                   all         70         93      0.916      0.957       0.96      0.692\n"
     ]
    },
    {
     "name": "stderr",
     "output_type": "stream",
     "text": [
      "\n"
     ]
    },
    {
     "name": "stdout",
     "output_type": "stream",
     "text": [
      "\n",
      "      Epoch    GPU_mem   box_loss   cls_loss   dfl_loss  Instances       Size\n"
     ]
    },
    {
     "name": "stderr",
     "output_type": "stream",
     "text": [
      "      38/50      2.12G     0.8557     0.6178      1.172         10        640: 100%|██████████| 31/31 [00:04<00:00,  6.97it/s]\n",
      "                 Class     Images  Instances      Box(P          R      mAP50  mAP50-95): 100%|██████████| 5/5 [00:00<00:00,  5.73it/s]"
     ]
    },
    {
     "name": "stdout",
     "output_type": "stream",
     "text": [
      "                   all         70         93      0.882      0.962      0.962      0.701\n"
     ]
    },
    {
     "name": "stderr",
     "output_type": "stream",
     "text": [
      "\n"
     ]
    },
    {
     "name": "stdout",
     "output_type": "stream",
     "text": [
      "\n",
      "      Epoch    GPU_mem   box_loss   cls_loss   dfl_loss  Instances       Size\n"
     ]
    },
    {
     "name": "stderr",
     "output_type": "stream",
     "text": [
      "      39/50      2.09G     0.8076     0.5996       1.13         12        640: 100%|██████████| 31/31 [00:04<00:00,  6.94it/s]\n",
      "                 Class     Images  Instances      Box(P          R      mAP50  mAP50-95): 100%|██████████| 5/5 [00:00<00:00,  7.99it/s]"
     ]
    },
    {
     "name": "stdout",
     "output_type": "stream",
     "text": [
      "                   all         70         93      0.916      0.934      0.959      0.698\n"
     ]
    },
    {
     "name": "stderr",
     "output_type": "stream",
     "text": [
      "\n"
     ]
    },
    {
     "name": "stdout",
     "output_type": "stream",
     "text": [
      "\n",
      "      Epoch    GPU_mem   box_loss   cls_loss   dfl_loss  Instances       Size\n"
     ]
    },
    {
     "name": "stderr",
     "output_type": "stream",
     "text": [
      "      40/50      2.17G     0.8392     0.5926      1.142         18        640: 100%|██████████| 31/31 [00:04<00:00,  6.99it/s]\n",
      "                 Class     Images  Instances      Box(P          R      mAP50  mAP50-95): 100%|██████████| 5/5 [00:00<00:00,  7.26it/s]"
     ]
    },
    {
     "name": "stdout",
     "output_type": "stream",
     "text": [
      "                   all         70         93      0.968      0.839      0.952      0.726\n"
     ]
    },
    {
     "name": "stderr",
     "output_type": "stream",
     "text": [
      "\n"
     ]
    },
    {
     "name": "stdout",
     "output_type": "stream",
     "text": [
      "Closing dataloader mosaic\n",
      "\n",
      "      Epoch    GPU_mem   box_loss   cls_loss   dfl_loss  Instances       Size\n"
     ]
    },
    {
     "name": "stderr",
     "output_type": "stream",
     "text": [
      "      41/50      2.09G     0.8051     0.6011       1.18          7        640: 100%|██████████| 31/31 [00:04<00:00,  6.63it/s]\n",
      "                 Class     Images  Instances      Box(P          R      mAP50  mAP50-95): 100%|██████████| 5/5 [00:00<00:00,  7.80it/s]"
     ]
    },
    {
     "name": "stdout",
     "output_type": "stream",
     "text": [
      "                   all         70         93       0.89      0.953      0.959      0.714\n"
     ]
    },
    {
     "name": "stderr",
     "output_type": "stream",
     "text": [
      "\n"
     ]
    },
    {
     "name": "stdout",
     "output_type": "stream",
     "text": [
      "\n",
      "      Epoch    GPU_mem   box_loss   cls_loss   dfl_loss  Instances       Size\n"
     ]
    },
    {
     "name": "stderr",
     "output_type": "stream",
     "text": [
      "      42/50      2.07G     0.7684     0.5551      1.137          9        640: 100%|██████████| 31/31 [00:04<00:00,  6.77it/s]\n",
      "                 Class     Images  Instances      Box(P          R      mAP50  mAP50-95): 100%|██████████| 5/5 [00:00<00:00,  7.35it/s]"
     ]
    },
    {
     "name": "stdout",
     "output_type": "stream",
     "text": [
      "                   all         70         93      0.922      0.925      0.953      0.725\n"
     ]
    },
    {
     "name": "stderr",
     "output_type": "stream",
     "text": [
      "\n"
     ]
    },
    {
     "name": "stdout",
     "output_type": "stream",
     "text": [
      "\n",
      "      Epoch    GPU_mem   box_loss   cls_loss   dfl_loss  Instances       Size\n"
     ]
    },
    {
     "name": "stderr",
     "output_type": "stream",
     "text": [
      "      43/50      2.17G     0.7283     0.5334      1.117          5        640: 100%|██████████| 31/31 [00:04<00:00,  7.26it/s]\n",
      "                 Class     Images  Instances      Box(P          R      mAP50  mAP50-95): 100%|██████████| 5/5 [00:00<00:00,  7.94it/s]"
     ]
    },
    {
     "name": "stdout",
     "output_type": "stream",
     "text": [
      "                   all         70         93      0.911      0.957      0.968      0.742\n"
     ]
    },
    {
     "name": "stderr",
     "output_type": "stream",
     "text": [
      "\n"
     ]
    },
    {
     "name": "stdout",
     "output_type": "stream",
     "text": [
      "\n",
      "      Epoch    GPU_mem   box_loss   cls_loss   dfl_loss  Instances       Size\n"
     ]
    },
    {
     "name": "stderr",
     "output_type": "stream",
     "text": [
      "      44/50      2.09G     0.7763     0.5395      1.174          7        640: 100%|██████████| 31/31 [00:04<00:00,  7.12it/s]\n",
      "                 Class     Images  Instances      Box(P          R      mAP50  mAP50-95): 100%|██████████| 5/5 [00:00<00:00,  7.84it/s]"
     ]
    },
    {
     "name": "stdout",
     "output_type": "stream",
     "text": [
      "                   all         70         93      0.927      0.956      0.974      0.734\n"
     ]
    },
    {
     "name": "stderr",
     "output_type": "stream",
     "text": [
      "\n"
     ]
    },
    {
     "name": "stdout",
     "output_type": "stream",
     "text": [
      "\n",
      "      Epoch    GPU_mem   box_loss   cls_loss   dfl_loss  Instances       Size\n"
     ]
    },
    {
     "name": "stderr",
     "output_type": "stream",
     "text": [
      "      45/50       2.1G     0.7471      0.494      1.156         10        640: 100%|██████████| 31/31 [00:04<00:00,  7.10it/s]\n",
      "                 Class     Images  Instances      Box(P          R      mAP50  mAP50-95): 100%|██████████| 5/5 [00:00<00:00,  7.84it/s]"
     ]
    },
    {
     "name": "stdout",
     "output_type": "stream",
     "text": [
      "                   all         70         93       0.93      0.935      0.974      0.735\n"
     ]
    },
    {
     "name": "stderr",
     "output_type": "stream",
     "text": [
      "\n"
     ]
    },
    {
     "name": "stdout",
     "output_type": "stream",
     "text": [
      "\n",
      "      Epoch    GPU_mem   box_loss   cls_loss   dfl_loss  Instances       Size\n"
     ]
    },
    {
     "name": "stderr",
     "output_type": "stream",
     "text": [
      "      46/50      2.15G     0.7242     0.4904      1.115          6        640: 100%|██████████| 31/31 [00:04<00:00,  6.95it/s]\n",
      "                 Class     Images  Instances      Box(P          R      mAP50  mAP50-95): 100%|██████████| 5/5 [00:00<00:00,  7.91it/s]"
     ]
    },
    {
     "name": "stdout",
     "output_type": "stream",
     "text": [
      "                   all         70         93      0.915      0.926      0.969      0.743\n"
     ]
    },
    {
     "name": "stderr",
     "output_type": "stream",
     "text": [
      "\n"
     ]
    },
    {
     "name": "stdout",
     "output_type": "stream",
     "text": [
      "\n",
      "      Epoch    GPU_mem   box_loss   cls_loss   dfl_loss  Instances       Size\n"
     ]
    },
    {
     "name": "stderr",
     "output_type": "stream",
     "text": [
      "      47/50      2.17G     0.6931     0.4618       1.13          9        640: 100%|██████████| 31/31 [00:04<00:00,  7.04it/s]\n",
      "                 Class     Images  Instances      Box(P          R      mAP50  mAP50-95): 100%|██████████| 5/5 [00:00<00:00,  6.38it/s]"
     ]
    },
    {
     "name": "stdout",
     "output_type": "stream",
     "text": [
      "                   all         70         93      0.923      0.935      0.974      0.749\n"
     ]
    },
    {
     "name": "stderr",
     "output_type": "stream",
     "text": [
      "\n"
     ]
    },
    {
     "name": "stdout",
     "output_type": "stream",
     "text": [
      "\n",
      "      Epoch    GPU_mem   box_loss   cls_loss   dfl_loss  Instances       Size\n"
     ]
    },
    {
     "name": "stderr",
     "output_type": "stream",
     "text": [
      "      48/50      2.09G     0.6915     0.4609      1.087          4        640: 100%|██████████| 31/31 [00:04<00:00,  6.62it/s]\n",
      "                 Class     Images  Instances      Box(P          R      mAP50  mAP50-95): 100%|██████████| 5/5 [00:00<00:00,  7.10it/s]"
     ]
    },
    {
     "name": "stdout",
     "output_type": "stream",
     "text": [
      "                   all         70         93      0.906      0.937      0.973      0.747\n"
     ]
    },
    {
     "name": "stderr",
     "output_type": "stream",
     "text": [
      "\n"
     ]
    },
    {
     "name": "stdout",
     "output_type": "stream",
     "text": [
      "\n",
      "      Epoch    GPU_mem   box_loss   cls_loss   dfl_loss  Instances       Size\n"
     ]
    },
    {
     "name": "stderr",
     "output_type": "stream",
     "text": [
      "      49/50      2.09G      0.684     0.4498      1.106          8        640: 100%|██████████| 31/31 [00:04<00:00,  7.07it/s]\n",
      "                 Class     Images  Instances      Box(P          R      mAP50  mAP50-95): 100%|██████████| 5/5 [00:00<00:00,  7.81it/s]"
     ]
    },
    {
     "name": "stdout",
     "output_type": "stream",
     "text": [
      "                   all         70         93      0.933      0.925      0.972      0.756\n"
     ]
    },
    {
     "name": "stderr",
     "output_type": "stream",
     "text": [
      "\n"
     ]
    },
    {
     "name": "stdout",
     "output_type": "stream",
     "text": [
      "\n",
      "      Epoch    GPU_mem   box_loss   cls_loss   dfl_loss  Instances       Size\n"
     ]
    },
    {
     "name": "stderr",
     "output_type": "stream",
     "text": [
      "      50/50      2.09G     0.6872     0.4714      1.106          5        640: 100%|██████████| 31/31 [00:04<00:00,  7.10it/s]\n",
      "                 Class     Images  Instances      Box(P          R      mAP50  mAP50-95): 100%|██████████| 5/5 [00:00<00:00,  7.95it/s]"
     ]
    },
    {
     "name": "stdout",
     "output_type": "stream",
     "text": [
      "                   all         70         93      0.923      0.914      0.968      0.758\n"
     ]
    },
    {
     "name": "stderr",
     "output_type": "stream",
     "text": [
      "\n"
     ]
    },
    {
     "name": "stdout",
     "output_type": "stream",
     "text": [
      "\n",
      "50 epochs completed in 0.092 hours.\n",
      "Optimizer stripped from runs\\detect\\train21\\weights\\last.pt, 22.5MB\n",
      "Optimizer stripped from runs\\detect\\train21\\weights\\best.pt, 22.5MB\n",
      "\n",
      "Validating runs\\detect\\train21\\weights\\best.pt...\n",
      "Ultralytics 8.3.70  Python-3.11.0 torch-2.5.1+cu118 CUDA:0 (NVIDIA GeForce RTX 3060 Laptop GPU, 6144MiB)\n",
      "Model summary (fused): 168 layers, 11,125,971 parameters, 0 gradients, 28.4 GFLOPs\n"
     ]
    },
    {
     "name": "stderr",
     "output_type": "stream",
     "text": [
      "                 Class     Images  Instances      Box(P          R      mAP50  mAP50-95): 100%|██████████| 5/5 [00:01<00:00,  4.44it/s]\n"
     ]
    },
    {
     "name": "stdout",
     "output_type": "stream",
     "text": [
      "                   all         70         93      0.922      0.914      0.968      0.758\n",
      "Speed: 0.5ms preprocess, 6.3ms inference, 0.0ms loss, 1.3ms postprocess per image\n",
      "Results saved to \u001b[1mruns\\detect\\train21\u001b[0m\n"
     ]
    },
    {
     "data": {
      "text/plain": [
       "ultralytics.utils.metrics.DetMetrics object with attributes:\n",
       "\n",
       "ap_class_index: array([0])\n",
       "box: ultralytics.utils.metrics.Metric object\n",
       "confusion_matrix: <ultralytics.utils.metrics.ConfusionMatrix object at 0x000001FA1A16A890>\n",
       "curves: ['Precision-Recall(B)', 'F1-Confidence(B)', 'Precision-Confidence(B)', 'Recall-Confidence(B)']\n",
       "curves_results: [[array([          0,    0.001001,    0.002002,    0.003003,    0.004004,    0.005005,    0.006006,    0.007007,    0.008008,    0.009009,     0.01001,    0.011011,    0.012012,    0.013013,    0.014014,    0.015015,    0.016016,    0.017017,    0.018018,    0.019019,     0.02002,    0.021021,    0.022022,    0.023023,\n",
       "          0.024024,    0.025025,    0.026026,    0.027027,    0.028028,    0.029029,     0.03003,    0.031031,    0.032032,    0.033033,    0.034034,    0.035035,    0.036036,    0.037037,    0.038038,    0.039039,     0.04004,    0.041041,    0.042042,    0.043043,    0.044044,    0.045045,    0.046046,    0.047047,\n",
       "          0.048048,    0.049049,     0.05005,    0.051051,    0.052052,    0.053053,    0.054054,    0.055055,    0.056056,    0.057057,    0.058058,    0.059059,     0.06006,    0.061061,    0.062062,    0.063063,    0.064064,    0.065065,    0.066066,    0.067067,    0.068068,    0.069069,     0.07007,    0.071071,\n",
       "          0.072072,    0.073073,    0.074074,    0.075075,    0.076076,    0.077077,    0.078078,    0.079079,     0.08008,    0.081081,    0.082082,    0.083083,    0.084084,    0.085085,    0.086086,    0.087087,    0.088088,    0.089089,     0.09009,    0.091091,    0.092092,    0.093093,    0.094094,    0.095095,\n",
       "          0.096096,    0.097097,    0.098098,    0.099099,      0.1001,      0.1011,      0.1021,      0.1031,      0.1041,     0.10511,     0.10611,     0.10711,     0.10811,     0.10911,     0.11011,     0.11111,     0.11211,     0.11311,     0.11411,     0.11512,     0.11612,     0.11712,     0.11812,     0.11912,\n",
       "           0.12012,     0.12112,     0.12212,     0.12312,     0.12412,     0.12513,     0.12613,     0.12713,     0.12813,     0.12913,     0.13013,     0.13113,     0.13213,     0.13313,     0.13413,     0.13514,     0.13614,     0.13714,     0.13814,     0.13914,     0.14014,     0.14114,     0.14214,     0.14314,\n",
       "           0.14414,     0.14515,     0.14615,     0.14715,     0.14815,     0.14915,     0.15015,     0.15115,     0.15215,     0.15315,     0.15415,     0.15516,     0.15616,     0.15716,     0.15816,     0.15916,     0.16016,     0.16116,     0.16216,     0.16316,     0.16416,     0.16517,     0.16617,     0.16717,\n",
       "           0.16817,     0.16917,     0.17017,     0.17117,     0.17217,     0.17317,     0.17417,     0.17518,     0.17618,     0.17718,     0.17818,     0.17918,     0.18018,     0.18118,     0.18218,     0.18318,     0.18418,     0.18519,     0.18619,     0.18719,     0.18819,     0.18919,     0.19019,     0.19119,\n",
       "           0.19219,     0.19319,     0.19419,      0.1952,      0.1962,      0.1972,      0.1982,      0.1992,      0.2002,      0.2012,      0.2022,      0.2032,      0.2042,     0.20521,     0.20621,     0.20721,     0.20821,     0.20921,     0.21021,     0.21121,     0.21221,     0.21321,     0.21421,     0.21522,\n",
       "           0.21622,     0.21722,     0.21822,     0.21922,     0.22022,     0.22122,     0.22222,     0.22322,     0.22422,     0.22523,     0.22623,     0.22723,     0.22823,     0.22923,     0.23023,     0.23123,     0.23223,     0.23323,     0.23423,     0.23524,     0.23624,     0.23724,     0.23824,     0.23924,\n",
       "           0.24024,     0.24124,     0.24224,     0.24324,     0.24424,     0.24525,     0.24625,     0.24725,     0.24825,     0.24925,     0.25025,     0.25125,     0.25225,     0.25325,     0.25425,     0.25526,     0.25626,     0.25726,     0.25826,     0.25926,     0.26026,     0.26126,     0.26226,     0.26326,\n",
       "           0.26426,     0.26527,     0.26627,     0.26727,     0.26827,     0.26927,     0.27027,     0.27127,     0.27227,     0.27327,     0.27427,     0.27528,     0.27628,     0.27728,     0.27828,     0.27928,     0.28028,     0.28128,     0.28228,     0.28328,     0.28428,     0.28529,     0.28629,     0.28729,\n",
       "           0.28829,     0.28929,     0.29029,     0.29129,     0.29229,     0.29329,     0.29429,      0.2953,      0.2963,      0.2973,      0.2983,      0.2993,      0.3003,      0.3013,      0.3023,      0.3033,      0.3043,     0.30531,     0.30631,     0.30731,     0.30831,     0.30931,     0.31031,     0.31131,\n",
       "           0.31231,     0.31331,     0.31431,     0.31532,     0.31632,     0.31732,     0.31832,     0.31932,     0.32032,     0.32132,     0.32232,     0.32332,     0.32432,     0.32533,     0.32633,     0.32733,     0.32833,     0.32933,     0.33033,     0.33133,     0.33233,     0.33333,     0.33433,     0.33534,\n",
       "           0.33634,     0.33734,     0.33834,     0.33934,     0.34034,     0.34134,     0.34234,     0.34334,     0.34434,     0.34535,     0.34635,     0.34735,     0.34835,     0.34935,     0.35035,     0.35135,     0.35235,     0.35335,     0.35435,     0.35536,     0.35636,     0.35736,     0.35836,     0.35936,\n",
       "           0.36036,     0.36136,     0.36236,     0.36336,     0.36436,     0.36537,     0.36637,     0.36737,     0.36837,     0.36937,     0.37037,     0.37137,     0.37237,     0.37337,     0.37437,     0.37538,     0.37638,     0.37738,     0.37838,     0.37938,     0.38038,     0.38138,     0.38238,     0.38338,\n",
       "           0.38438,     0.38539,     0.38639,     0.38739,     0.38839,     0.38939,     0.39039,     0.39139,     0.39239,     0.39339,     0.39439,      0.3954,      0.3964,      0.3974,      0.3984,      0.3994,      0.4004,      0.4014,      0.4024,      0.4034,      0.4044,     0.40541,     0.40641,     0.40741,\n",
       "           0.40841,     0.40941,     0.41041,     0.41141,     0.41241,     0.41341,     0.41441,     0.41542,     0.41642,     0.41742,     0.41842,     0.41942,     0.42042,     0.42142,     0.42242,     0.42342,     0.42442,     0.42543,     0.42643,     0.42743,     0.42843,     0.42943,     0.43043,     0.43143,\n",
       "           0.43243,     0.43343,     0.43443,     0.43544,     0.43644,     0.43744,     0.43844,     0.43944,     0.44044,     0.44144,     0.44244,     0.44344,     0.44444,     0.44545,     0.44645,     0.44745,     0.44845,     0.44945,     0.45045,     0.45145,     0.45245,     0.45345,     0.45445,     0.45546,\n",
       "           0.45646,     0.45746,     0.45846,     0.45946,     0.46046,     0.46146,     0.46246,     0.46346,     0.46446,     0.46547,     0.46647,     0.46747,     0.46847,     0.46947,     0.47047,     0.47147,     0.47247,     0.47347,     0.47447,     0.47548,     0.47648,     0.47748,     0.47848,     0.47948,\n",
       "           0.48048,     0.48148,     0.48248,     0.48348,     0.48448,     0.48549,     0.48649,     0.48749,     0.48849,     0.48949,     0.49049,     0.49149,     0.49249,     0.49349,     0.49449,      0.4955,      0.4965,      0.4975,      0.4985,      0.4995,      0.5005,      0.5015,      0.5025,      0.5035,\n",
       "            0.5045,     0.50551,     0.50651,     0.50751,     0.50851,     0.50951,     0.51051,     0.51151,     0.51251,     0.51351,     0.51451,     0.51552,     0.51652,     0.51752,     0.51852,     0.51952,     0.52052,     0.52152,     0.52252,     0.52352,     0.52452,     0.52553,     0.52653,     0.52753,\n",
       "           0.52853,     0.52953,     0.53053,     0.53153,     0.53253,     0.53353,     0.53453,     0.53554,     0.53654,     0.53754,     0.53854,     0.53954,     0.54054,     0.54154,     0.54254,     0.54354,     0.54454,     0.54555,     0.54655,     0.54755,     0.54855,     0.54955,     0.55055,     0.55155,\n",
       "           0.55255,     0.55355,     0.55455,     0.55556,     0.55656,     0.55756,     0.55856,     0.55956,     0.56056,     0.56156,     0.56256,     0.56356,     0.56456,     0.56557,     0.56657,     0.56757,     0.56857,     0.56957,     0.57057,     0.57157,     0.57257,     0.57357,     0.57457,     0.57558,\n",
       "           0.57658,     0.57758,     0.57858,     0.57958,     0.58058,     0.58158,     0.58258,     0.58358,     0.58458,     0.58559,     0.58659,     0.58759,     0.58859,     0.58959,     0.59059,     0.59159,     0.59259,     0.59359,     0.59459,      0.5956,      0.5966,      0.5976,      0.5986,      0.5996,\n",
       "            0.6006,      0.6016,      0.6026,      0.6036,      0.6046,     0.60561,     0.60661,     0.60761,     0.60861,     0.60961,     0.61061,     0.61161,     0.61261,     0.61361,     0.61461,     0.61562,     0.61662,     0.61762,     0.61862,     0.61962,     0.62062,     0.62162,     0.62262,     0.62362,\n",
       "           0.62462,     0.62563,     0.62663,     0.62763,     0.62863,     0.62963,     0.63063,     0.63163,     0.63263,     0.63363,     0.63463,     0.63564,     0.63664,     0.63764,     0.63864,     0.63964,     0.64064,     0.64164,     0.64264,     0.64364,     0.64464,     0.64565,     0.64665,     0.64765,\n",
       "           0.64865,     0.64965,     0.65065,     0.65165,     0.65265,     0.65365,     0.65465,     0.65566,     0.65666,     0.65766,     0.65866,     0.65966,     0.66066,     0.66166,     0.66266,     0.66366,     0.66466,     0.66567,     0.66667,     0.66767,     0.66867,     0.66967,     0.67067,     0.67167,\n",
       "           0.67267,     0.67367,     0.67467,     0.67568,     0.67668,     0.67768,     0.67868,     0.67968,     0.68068,     0.68168,     0.68268,     0.68368,     0.68468,     0.68569,     0.68669,     0.68769,     0.68869,     0.68969,     0.69069,     0.69169,     0.69269,     0.69369,     0.69469,      0.6957,\n",
       "            0.6967,      0.6977,      0.6987,      0.6997,      0.7007,      0.7017,      0.7027,      0.7037,      0.7047,     0.70571,     0.70671,     0.70771,     0.70871,     0.70971,     0.71071,     0.71171,     0.71271,     0.71371,     0.71471,     0.71572,     0.71672,     0.71772,     0.71872,     0.71972,\n",
       "           0.72072,     0.72172,     0.72272,     0.72372,     0.72472,     0.72573,     0.72673,     0.72773,     0.72873,     0.72973,     0.73073,     0.73173,     0.73273,     0.73373,     0.73473,     0.73574,     0.73674,     0.73774,     0.73874,     0.73974,     0.74074,     0.74174,     0.74274,     0.74374,\n",
       "           0.74474,     0.74575,     0.74675,     0.74775,     0.74875,     0.74975,     0.75075,     0.75175,     0.75275,     0.75375,     0.75475,     0.75576,     0.75676,     0.75776,     0.75876,     0.75976,     0.76076,     0.76176,     0.76276,     0.76376,     0.76476,     0.76577,     0.76677,     0.76777,\n",
       "           0.76877,     0.76977,     0.77077,     0.77177,     0.77277,     0.77377,     0.77477,     0.77578,     0.77678,     0.77778,     0.77878,     0.77978,     0.78078,     0.78178,     0.78278,     0.78378,     0.78478,     0.78579,     0.78679,     0.78779,     0.78879,     0.78979,     0.79079,     0.79179,\n",
       "           0.79279,     0.79379,     0.79479,      0.7958,      0.7968,      0.7978,      0.7988,      0.7998,      0.8008,      0.8018,      0.8028,      0.8038,      0.8048,     0.80581,     0.80681,     0.80781,     0.80881,     0.80981,     0.81081,     0.81181,     0.81281,     0.81381,     0.81481,     0.81582,\n",
       "           0.81682,     0.81782,     0.81882,     0.81982,     0.82082,     0.82182,     0.82282,     0.82382,     0.82482,     0.82583,     0.82683,     0.82783,     0.82883,     0.82983,     0.83083,     0.83183,     0.83283,     0.83383,     0.83483,     0.83584,     0.83684,     0.83784,     0.83884,     0.83984,\n",
       "           0.84084,     0.84184,     0.84284,     0.84384,     0.84484,     0.84585,     0.84685,     0.84785,     0.84885,     0.84985,     0.85085,     0.85185,     0.85285,     0.85385,     0.85485,     0.85586,     0.85686,     0.85786,     0.85886,     0.85986,     0.86086,     0.86186,     0.86286,     0.86386,\n",
       "           0.86486,     0.86587,     0.86687,     0.86787,     0.86887,     0.86987,     0.87087,     0.87187,     0.87287,     0.87387,     0.87487,     0.87588,     0.87688,     0.87788,     0.87888,     0.87988,     0.88088,     0.88188,     0.88288,     0.88388,     0.88488,     0.88589,     0.88689,     0.88789,\n",
       "           0.88889,     0.88989,     0.89089,     0.89189,     0.89289,     0.89389,     0.89489,      0.8959,      0.8969,      0.8979,      0.8989,      0.8999,      0.9009,      0.9019,      0.9029,      0.9039,      0.9049,     0.90591,     0.90691,     0.90791,     0.90891,     0.90991,     0.91091,     0.91191,\n",
       "           0.91291,     0.91391,     0.91491,     0.91592,     0.91692,     0.91792,     0.91892,     0.91992,     0.92092,     0.92192,     0.92292,     0.92392,     0.92492,     0.92593,     0.92693,     0.92793,     0.92893,     0.92993,     0.93093,     0.93193,     0.93293,     0.93393,     0.93493,     0.93594,\n",
       "           0.93694,     0.93794,     0.93894,     0.93994,     0.94094,     0.94194,     0.94294,     0.94394,     0.94494,     0.94595,     0.94695,     0.94795,     0.94895,     0.94995,     0.95095,     0.95195,     0.95295,     0.95395,     0.95495,     0.95596,     0.95696,     0.95796,     0.95896,     0.95996,\n",
       "           0.96096,     0.96196,     0.96296,     0.96396,     0.96496,     0.96597,     0.96697,     0.96797,     0.96897,     0.96997,     0.97097,     0.97197,     0.97297,     0.97397,     0.97497,     0.97598,     0.97698,     0.97798,     0.97898,     0.97998,     0.98098,     0.98198,     0.98298,     0.98398,\n",
       "           0.98498,     0.98599,     0.98699,     0.98799,     0.98899,     0.98999,     0.99099,     0.99199,     0.99299,     0.99399,     0.99499,       0.996,       0.997,       0.998,       0.999,           1]), array([[          1,           1,           1,           1,           1,           1,           1,           1,           1,           1,           1,           1,           1,           1,           1,           1,           1,           1,           1,           1,           1,           1,           1,\n",
       "                  1,           1,           1,           1,           1,           1,           1,           1,           1,           1,           1,           1,           1,           1,           1,           1,           1,           1,           1,           1,           1,           1,           1,\n",
       "                  1,           1,           1,           1,           1,           1,           1,           1,           1,           1,           1,           1,           1,           1,           1,           1,           1,           1,           1,           1,           1,           1,           1,\n",
       "                  1,           1,           1,           1,           1,           1,           1,           1,           1,           1,           1,           1,           1,           1,           1,           1,           1,           1,           1,           1,           1,           1,           1,\n",
       "                  1,           1,           1,           1,           1,           1,           1,           1,           1,           1,           1,           1,           1,           1,           1,           1,           1,           1,           1,           1,           1,           1,           1,\n",
       "                  1,           1,           1,           1,           1,           1,           1,           1,           1,           1,           1,           1,           1,           1,           1,           1,           1,           1,           1,           1,           1,           1,           1,\n",
       "                  1,           1,           1,           1,           1,           1,           1,           1,           1,           1,           1,           1,           1,           1,           1,           1,           1,           1,           1,           1,           1,           1,           1,\n",
       "                  1,           1,           1,           1,           1,           1,           1,           1,           1,           1,           1,           1,           1,           1,           1,           1,           1,           1,           1,           1,           1,           1,           1,\n",
       "                  1,           1,           1,           1,           1,           1,           1,           1,           1,           1,           1,           1,           1,           1,           1,           1,           1,           1,           1,           1,           1,           1,           1,\n",
       "                  1,           1,           1,           1,           1,           1,           1,           1,           1,           1,           1,           1,           1,           1,           1,           1,           1,           1,           1,           1,           1,           1,           1,\n",
       "                  1,           1,           1,           1,           1,           1,           1,           1,           1,           1,           1,           1,           1,           1,           1,           1,           1,           1,           1,           1,           1,           1,           1,\n",
       "                  1,           1,           1,           1,           1,           1,           1,           1,           1,           1,           1,           1,           1,           1,           1,           1,           1,           1,           1,           1,           1,           1,           1,\n",
       "                  1,           1,           1,           1,           1,           1,           1,           1,           1,           1,           1,           1,           1,           1,           1,           1,           1,           1,           1,           1,           1,           1,           1,\n",
       "                  1,           1,           1,           1,           1,           1,           1,           1,           1,           1,           1,           1,           1,           1,           1,           1,           1,           1,           1,           1,           1,           1,           1,\n",
       "                  1,           1,           1,           1,           1,           1,           1,           1,           1,           1,           1,           1,           1,           1,           1,           1,           1,           1,           1,           1,           1,           1,           1,\n",
       "                  1,           1,           1,           1,           1,           1,           1,           1,           1,           1,           1,           1,           1,           1,           1,           1,           1,           1,           1,           1,           1,           1,           1,\n",
       "                  1,           1,           1,           1,           1,           1,           1,           1,           1,           1,           1,           1,           1,           1,           1,           1,           1,           1,           1,           1,           1,           1,           1,\n",
       "                  1,           1,           1,           1,           1,           1,           1,           1,           1,           1,           1,           1,           1,           1,           1,           1,           1,           1,           1,           1,           1,           1,           1,\n",
       "                  1,           1,           1,           1,           1,           1,           1,           1,           1,           1,           1,           1,           1,           1,           1,           1,           1,           1,           1,           1,           1,           1,           1,\n",
       "                  1,           1,           1,           1,           1,           1,           1,           1,           1,           1,           1,           1,           1,           1,           1,           1,           1,           1,           1,           1,           1,           1,           1,\n",
       "                  1,           1,           1,           1,           1,           1,           1,           1,           1,           1,           1,           1,           1,           1,           1,           1,           1,           1,           1,           1,           1,           1,           1,\n",
       "                  1,           1,           1,           1,           1,           1,           1,           1,           1,           1,           1,           1,           1,           1,           1,           1,           1,           1,           1,           1,           1,           1,           1,\n",
       "                  1,           1,           1,           1,           1,           1,           1,           1,           1,           1,           1,           1,           1,           1,           1,           1,           1,           1,           1,           1,           1,           1,           1,\n",
       "                  1,           1,           1,           1,           1,           1,           1,           1,           1,           1,           1,           1,           1,           1,           1,           1,           1,           1,           1,           1,           1,           1,           1,\n",
       "                  1,           1,           1,           1,           1,           1,           1,           1,           1,           1,           1,           1,           1,           1,           1,           1,           1,           1,           1,           1,           1,           1,           1,\n",
       "                  1,           1,           1,           1,           1,           1,           1,           1,           1,           1,           1,           1,           1,           1,           1,           1,           1,           1,           1,           1,           1,           1,           1,\n",
       "                  1,           1,           1,           1,           1,           1,           1,           1,           1,           1,           1,           1,           1,           1,           1,           1,           1,           1,           1,           1,           1,           1,           1,\n",
       "                  1,           1,           1,     0.98667,     0.98667,     0.98667,     0.98667,     0.98667,     0.98667,     0.98667,     0.98667,     0.98667,     0.98667,     0.98667,     0.98667,     0.98667,     0.98667,     0.98667,     0.98667,     0.98667,     0.98667,     0.98667,     0.98667,\n",
       "            0.98667,     0.98667,     0.98667,     0.98667,     0.98667,     0.98667,     0.98667,     0.98667,     0.98667,     0.98667,     0.98667,     0.98667,     0.98667,     0.98667,     0.98667,     0.98667,     0.98667,     0.98667,     0.98667,     0.98667,     0.98667,     0.98667,     0.98667,\n",
       "            0.98667,     0.98667,     0.98667,     0.98667,     0.98667,     0.98667,     0.98667,     0.98667,     0.98667,     0.98667,     0.98667,     0.98667,     0.98667,     0.98667,     0.98667,     0.98667,     0.98667,     0.98667,     0.98667,     0.98667,     0.98667,     0.98667,     0.98667,\n",
       "            0.98667,     0.98667,     0.98667,     0.98667,     0.98667,     0.98667,     0.98667,     0.98667,     0.98667,     0.98667,     0.98667,     0.98667,     0.98667,     0.98667,     0.98667,     0.98667,     0.98667,     0.98667,     0.98667,     0.98667,     0.98667,     0.98667,     0.98667,\n",
       "            0.98667,     0.98667,     0.98667,     0.98667,     0.98667,     0.98667,     0.98667,     0.98667,     0.98667,     0.98667,     0.98667,     0.98667,     0.98667,     0.98667,     0.98667,     0.98667,     0.98667,     0.98667,     0.98667,     0.98667,     0.98667,     0.98667,     0.98667,\n",
       "            0.98667,     0.98667,     0.98667,     0.98667,     0.98667,     0.98667,     0.98667,     0.98667,     0.98667,     0.98667,     0.98667,     0.98667,     0.98667,     0.98667,     0.98667,     0.98667,     0.98667,     0.98667,     0.98667,     0.98667,     0.98667,     0.98667,     0.98667,\n",
       "            0.98667,     0.98667,     0.98667,     0.98667,     0.98667,     0.98667,     0.98667,     0.98667,     0.98667,     0.98667,     0.98667,     0.98667,     0.98667,     0.98667,     0.98667,     0.98667,     0.98667,     0.98667,     0.98667,     0.98667,     0.98667,     0.98667,     0.98667,\n",
       "            0.98667,     0.98667,     0.98667,     0.98667,     0.98667,     0.98667,     0.98667,     0.98667,     0.98667,     0.98667,     0.98667,     0.98667,     0.98667,       0.975,       0.975,       0.975,       0.975,       0.975,       0.975,       0.975,       0.975,       0.975,       0.975,\n",
       "              0.975,       0.975,       0.975,       0.975,       0.975,       0.975,       0.975,       0.975,       0.975,       0.975,       0.975,       0.975,       0.975,       0.975,       0.975,       0.975,       0.975,       0.975,       0.975,       0.975,       0.975,       0.975,       0.975,\n",
       "              0.975,       0.975,       0.975,       0.975,       0.975,       0.975,       0.975,       0.975,       0.975,       0.975,     0.96341,     0.96341,     0.96341,     0.96341,     0.96341,     0.96341,     0.96341,     0.96341,     0.96341,     0.96341,     0.96341,     0.95238,     0.95238,\n",
       "            0.95238,     0.95238,     0.95238,     0.95238,     0.95238,     0.95238,     0.95238,     0.95238,     0.95238,     0.93407,     0.93407,     0.93407,     0.93407,     0.93407,     0.93407,     0.93407,     0.93407,     0.93407,     0.93407,     0.93407,     0.93407,     0.93407,     0.93407,\n",
       "            0.93407,     0.93407,     0.93407,     0.93407,     0.93407,     0.93407,     0.93407,     0.93407,     0.93407,     0.93407,     0.93407,     0.93407,     0.93407,     0.93407,     0.93407,     0.93407,     0.93407,     0.93407,     0.93407,     0.93407,     0.93407,     0.93407,     0.93407,\n",
       "            0.93407,     0.93407,     0.93407,     0.93407,     0.93407,     0.93407,     0.93407,     0.93407,     0.93407,     0.93407,     0.93407,     0.93407,     0.93407,     0.93407,     0.93407,     0.93407,     0.93407,     0.91489,     0.91489,     0.91489,     0.91489,     0.91489,     0.91489,\n",
       "            0.91489,     0.91489,     0.91489,     0.91489,     0.90625,     0.90625,     0.90625,     0.90625,     0.90625,     0.90625,     0.90625,     0.90625,     0.90625,     0.90625,     0.90625,     0.87129,     0.87129,     0.87129,     0.87129,     0.87129,     0.87129,     0.87129,     0.87129,\n",
       "            0.87129,     0.87129,     0.87129,     0.86408,     0.86408,     0.86408,     0.86408,     0.86408,     0.86408,     0.86408,     0.86408,     0.86408,     0.86408,     0.86408,     0.78261,     0.78261,     0.78261,     0.78261,     0.78261,     0.78261,     0.78261,     0.78261,     0.78261,\n",
       "            0.78261,     0.71094,     0.71094,     0.71094,     0.71094,     0.71094,     0.71094,     0.71094,     0.71094,     0.71094,     0.71094,     0.71094,     0.63889,     0.63889,     0.63889,     0.63889,     0.63889,     0.63889,     0.63889,     0.63889,     0.63889,     0.63889,     0.63889,\n",
       "             0.4115,      0.4115,      0.4115,      0.4115,      0.4115,      0.4115,      0.4115,      0.4115,      0.4115,      0.4115,           0]]), 'Recall', 'Precision'], [array([          0,    0.001001,    0.002002,    0.003003,    0.004004,    0.005005,    0.006006,    0.007007,    0.008008,    0.009009,     0.01001,    0.011011,    0.012012,    0.013013,    0.014014,    0.015015,    0.016016,    0.017017,    0.018018,    0.019019,     0.02002,    0.021021,    0.022022,    0.023023,\n",
       "          0.024024,    0.025025,    0.026026,    0.027027,    0.028028,    0.029029,     0.03003,    0.031031,    0.032032,    0.033033,    0.034034,    0.035035,    0.036036,    0.037037,    0.038038,    0.039039,     0.04004,    0.041041,    0.042042,    0.043043,    0.044044,    0.045045,    0.046046,    0.047047,\n",
       "          0.048048,    0.049049,     0.05005,    0.051051,    0.052052,    0.053053,    0.054054,    0.055055,    0.056056,    0.057057,    0.058058,    0.059059,     0.06006,    0.061061,    0.062062,    0.063063,    0.064064,    0.065065,    0.066066,    0.067067,    0.068068,    0.069069,     0.07007,    0.071071,\n",
       "          0.072072,    0.073073,    0.074074,    0.075075,    0.076076,    0.077077,    0.078078,    0.079079,     0.08008,    0.081081,    0.082082,    0.083083,    0.084084,    0.085085,    0.086086,    0.087087,    0.088088,    0.089089,     0.09009,    0.091091,    0.092092,    0.093093,    0.094094,    0.095095,\n",
       "          0.096096,    0.097097,    0.098098,    0.099099,      0.1001,      0.1011,      0.1021,      0.1031,      0.1041,     0.10511,     0.10611,     0.10711,     0.10811,     0.10911,     0.11011,     0.11111,     0.11211,     0.11311,     0.11411,     0.11512,     0.11612,     0.11712,     0.11812,     0.11912,\n",
       "           0.12012,     0.12112,     0.12212,     0.12312,     0.12412,     0.12513,     0.12613,     0.12713,     0.12813,     0.12913,     0.13013,     0.13113,     0.13213,     0.13313,     0.13413,     0.13514,     0.13614,     0.13714,     0.13814,     0.13914,     0.14014,     0.14114,     0.14214,     0.14314,\n",
       "           0.14414,     0.14515,     0.14615,     0.14715,     0.14815,     0.14915,     0.15015,     0.15115,     0.15215,     0.15315,     0.15415,     0.15516,     0.15616,     0.15716,     0.15816,     0.15916,     0.16016,     0.16116,     0.16216,     0.16316,     0.16416,     0.16517,     0.16617,     0.16717,\n",
       "           0.16817,     0.16917,     0.17017,     0.17117,     0.17217,     0.17317,     0.17417,     0.17518,     0.17618,     0.17718,     0.17818,     0.17918,     0.18018,     0.18118,     0.18218,     0.18318,     0.18418,     0.18519,     0.18619,     0.18719,     0.18819,     0.18919,     0.19019,     0.19119,\n",
       "           0.19219,     0.19319,     0.19419,      0.1952,      0.1962,      0.1972,      0.1982,      0.1992,      0.2002,      0.2012,      0.2022,      0.2032,      0.2042,     0.20521,     0.20621,     0.20721,     0.20821,     0.20921,     0.21021,     0.21121,     0.21221,     0.21321,     0.21421,     0.21522,\n",
       "           0.21622,     0.21722,     0.21822,     0.21922,     0.22022,     0.22122,     0.22222,     0.22322,     0.22422,     0.22523,     0.22623,     0.22723,     0.22823,     0.22923,     0.23023,     0.23123,     0.23223,     0.23323,     0.23423,     0.23524,     0.23624,     0.23724,     0.23824,     0.23924,\n",
       "           0.24024,     0.24124,     0.24224,     0.24324,     0.24424,     0.24525,     0.24625,     0.24725,     0.24825,     0.24925,     0.25025,     0.25125,     0.25225,     0.25325,     0.25425,     0.25526,     0.25626,     0.25726,     0.25826,     0.25926,     0.26026,     0.26126,     0.26226,     0.26326,\n",
       "           0.26426,     0.26527,     0.26627,     0.26727,     0.26827,     0.26927,     0.27027,     0.27127,     0.27227,     0.27327,     0.27427,     0.27528,     0.27628,     0.27728,     0.27828,     0.27928,     0.28028,     0.28128,     0.28228,     0.28328,     0.28428,     0.28529,     0.28629,     0.28729,\n",
       "           0.28829,     0.28929,     0.29029,     0.29129,     0.29229,     0.29329,     0.29429,      0.2953,      0.2963,      0.2973,      0.2983,      0.2993,      0.3003,      0.3013,      0.3023,      0.3033,      0.3043,     0.30531,     0.30631,     0.30731,     0.30831,     0.30931,     0.31031,     0.31131,\n",
       "           0.31231,     0.31331,     0.31431,     0.31532,     0.31632,     0.31732,     0.31832,     0.31932,     0.32032,     0.32132,     0.32232,     0.32332,     0.32432,     0.32533,     0.32633,     0.32733,     0.32833,     0.32933,     0.33033,     0.33133,     0.33233,     0.33333,     0.33433,     0.33534,\n",
       "           0.33634,     0.33734,     0.33834,     0.33934,     0.34034,     0.34134,     0.34234,     0.34334,     0.34434,     0.34535,     0.34635,     0.34735,     0.34835,     0.34935,     0.35035,     0.35135,     0.35235,     0.35335,     0.35435,     0.35536,     0.35636,     0.35736,     0.35836,     0.35936,\n",
       "           0.36036,     0.36136,     0.36236,     0.36336,     0.36436,     0.36537,     0.36637,     0.36737,     0.36837,     0.36937,     0.37037,     0.37137,     0.37237,     0.37337,     0.37437,     0.37538,     0.37638,     0.37738,     0.37838,     0.37938,     0.38038,     0.38138,     0.38238,     0.38338,\n",
       "           0.38438,     0.38539,     0.38639,     0.38739,     0.38839,     0.38939,     0.39039,     0.39139,     0.39239,     0.39339,     0.39439,      0.3954,      0.3964,      0.3974,      0.3984,      0.3994,      0.4004,      0.4014,      0.4024,      0.4034,      0.4044,     0.40541,     0.40641,     0.40741,\n",
       "           0.40841,     0.40941,     0.41041,     0.41141,     0.41241,     0.41341,     0.41441,     0.41542,     0.41642,     0.41742,     0.41842,     0.41942,     0.42042,     0.42142,     0.42242,     0.42342,     0.42442,     0.42543,     0.42643,     0.42743,     0.42843,     0.42943,     0.43043,     0.43143,\n",
       "           0.43243,     0.43343,     0.43443,     0.43544,     0.43644,     0.43744,     0.43844,     0.43944,     0.44044,     0.44144,     0.44244,     0.44344,     0.44444,     0.44545,     0.44645,     0.44745,     0.44845,     0.44945,     0.45045,     0.45145,     0.45245,     0.45345,     0.45445,     0.45546,\n",
       "           0.45646,     0.45746,     0.45846,     0.45946,     0.46046,     0.46146,     0.46246,     0.46346,     0.46446,     0.46547,     0.46647,     0.46747,     0.46847,     0.46947,     0.47047,     0.47147,     0.47247,     0.47347,     0.47447,     0.47548,     0.47648,     0.47748,     0.47848,     0.47948,\n",
       "           0.48048,     0.48148,     0.48248,     0.48348,     0.48448,     0.48549,     0.48649,     0.48749,     0.48849,     0.48949,     0.49049,     0.49149,     0.49249,     0.49349,     0.49449,      0.4955,      0.4965,      0.4975,      0.4985,      0.4995,      0.5005,      0.5015,      0.5025,      0.5035,\n",
       "            0.5045,     0.50551,     0.50651,     0.50751,     0.50851,     0.50951,     0.51051,     0.51151,     0.51251,     0.51351,     0.51451,     0.51552,     0.51652,     0.51752,     0.51852,     0.51952,     0.52052,     0.52152,     0.52252,     0.52352,     0.52452,     0.52553,     0.52653,     0.52753,\n",
       "           0.52853,     0.52953,     0.53053,     0.53153,     0.53253,     0.53353,     0.53453,     0.53554,     0.53654,     0.53754,     0.53854,     0.53954,     0.54054,     0.54154,     0.54254,     0.54354,     0.54454,     0.54555,     0.54655,     0.54755,     0.54855,     0.54955,     0.55055,     0.55155,\n",
       "           0.55255,     0.55355,     0.55455,     0.55556,     0.55656,     0.55756,     0.55856,     0.55956,     0.56056,     0.56156,     0.56256,     0.56356,     0.56456,     0.56557,     0.56657,     0.56757,     0.56857,     0.56957,     0.57057,     0.57157,     0.57257,     0.57357,     0.57457,     0.57558,\n",
       "           0.57658,     0.57758,     0.57858,     0.57958,     0.58058,     0.58158,     0.58258,     0.58358,     0.58458,     0.58559,     0.58659,     0.58759,     0.58859,     0.58959,     0.59059,     0.59159,     0.59259,     0.59359,     0.59459,      0.5956,      0.5966,      0.5976,      0.5986,      0.5996,\n",
       "            0.6006,      0.6016,      0.6026,      0.6036,      0.6046,     0.60561,     0.60661,     0.60761,     0.60861,     0.60961,     0.61061,     0.61161,     0.61261,     0.61361,     0.61461,     0.61562,     0.61662,     0.61762,     0.61862,     0.61962,     0.62062,     0.62162,     0.62262,     0.62362,\n",
       "           0.62462,     0.62563,     0.62663,     0.62763,     0.62863,     0.62963,     0.63063,     0.63163,     0.63263,     0.63363,     0.63463,     0.63564,     0.63664,     0.63764,     0.63864,     0.63964,     0.64064,     0.64164,     0.64264,     0.64364,     0.64464,     0.64565,     0.64665,     0.64765,\n",
       "           0.64865,     0.64965,     0.65065,     0.65165,     0.65265,     0.65365,     0.65465,     0.65566,     0.65666,     0.65766,     0.65866,     0.65966,     0.66066,     0.66166,     0.66266,     0.66366,     0.66466,     0.66567,     0.66667,     0.66767,     0.66867,     0.66967,     0.67067,     0.67167,\n",
       "           0.67267,     0.67367,     0.67467,     0.67568,     0.67668,     0.67768,     0.67868,     0.67968,     0.68068,     0.68168,     0.68268,     0.68368,     0.68468,     0.68569,     0.68669,     0.68769,     0.68869,     0.68969,     0.69069,     0.69169,     0.69269,     0.69369,     0.69469,      0.6957,\n",
       "            0.6967,      0.6977,      0.6987,      0.6997,      0.7007,      0.7017,      0.7027,      0.7037,      0.7047,     0.70571,     0.70671,     0.70771,     0.70871,     0.70971,     0.71071,     0.71171,     0.71271,     0.71371,     0.71471,     0.71572,     0.71672,     0.71772,     0.71872,     0.71972,\n",
       "           0.72072,     0.72172,     0.72272,     0.72372,     0.72472,     0.72573,     0.72673,     0.72773,     0.72873,     0.72973,     0.73073,     0.73173,     0.73273,     0.73373,     0.73473,     0.73574,     0.73674,     0.73774,     0.73874,     0.73974,     0.74074,     0.74174,     0.74274,     0.74374,\n",
       "           0.74474,     0.74575,     0.74675,     0.74775,     0.74875,     0.74975,     0.75075,     0.75175,     0.75275,     0.75375,     0.75475,     0.75576,     0.75676,     0.75776,     0.75876,     0.75976,     0.76076,     0.76176,     0.76276,     0.76376,     0.76476,     0.76577,     0.76677,     0.76777,\n",
       "           0.76877,     0.76977,     0.77077,     0.77177,     0.77277,     0.77377,     0.77477,     0.77578,     0.77678,     0.77778,     0.77878,     0.77978,     0.78078,     0.78178,     0.78278,     0.78378,     0.78478,     0.78579,     0.78679,     0.78779,     0.78879,     0.78979,     0.79079,     0.79179,\n",
       "           0.79279,     0.79379,     0.79479,      0.7958,      0.7968,      0.7978,      0.7988,      0.7998,      0.8008,      0.8018,      0.8028,      0.8038,      0.8048,     0.80581,     0.80681,     0.80781,     0.80881,     0.80981,     0.81081,     0.81181,     0.81281,     0.81381,     0.81481,     0.81582,\n",
       "           0.81682,     0.81782,     0.81882,     0.81982,     0.82082,     0.82182,     0.82282,     0.82382,     0.82482,     0.82583,     0.82683,     0.82783,     0.82883,     0.82983,     0.83083,     0.83183,     0.83283,     0.83383,     0.83483,     0.83584,     0.83684,     0.83784,     0.83884,     0.83984,\n",
       "           0.84084,     0.84184,     0.84284,     0.84384,     0.84484,     0.84585,     0.84685,     0.84785,     0.84885,     0.84985,     0.85085,     0.85185,     0.85285,     0.85385,     0.85485,     0.85586,     0.85686,     0.85786,     0.85886,     0.85986,     0.86086,     0.86186,     0.86286,     0.86386,\n",
       "           0.86486,     0.86587,     0.86687,     0.86787,     0.86887,     0.86987,     0.87087,     0.87187,     0.87287,     0.87387,     0.87487,     0.87588,     0.87688,     0.87788,     0.87888,     0.87988,     0.88088,     0.88188,     0.88288,     0.88388,     0.88488,     0.88589,     0.88689,     0.88789,\n",
       "           0.88889,     0.88989,     0.89089,     0.89189,     0.89289,     0.89389,     0.89489,      0.8959,      0.8969,      0.8979,      0.8989,      0.8999,      0.9009,      0.9019,      0.9029,      0.9039,      0.9049,     0.90591,     0.90691,     0.90791,     0.90891,     0.90991,     0.91091,     0.91191,\n",
       "           0.91291,     0.91391,     0.91491,     0.91592,     0.91692,     0.91792,     0.91892,     0.91992,     0.92092,     0.92192,     0.92292,     0.92392,     0.92492,     0.92593,     0.92693,     0.92793,     0.92893,     0.92993,     0.93093,     0.93193,     0.93293,     0.93393,     0.93493,     0.93594,\n",
       "           0.93694,     0.93794,     0.93894,     0.93994,     0.94094,     0.94194,     0.94294,     0.94394,     0.94494,     0.94595,     0.94695,     0.94795,     0.94895,     0.94995,     0.95095,     0.95195,     0.95295,     0.95395,     0.95495,     0.95596,     0.95696,     0.95796,     0.95896,     0.95996,\n",
       "           0.96096,     0.96196,     0.96296,     0.96396,     0.96496,     0.96597,     0.96697,     0.96797,     0.96897,     0.96997,     0.97097,     0.97197,     0.97297,     0.97397,     0.97497,     0.97598,     0.97698,     0.97798,     0.97898,     0.97998,     0.98098,     0.98198,     0.98298,     0.98398,\n",
       "           0.98498,     0.98599,     0.98699,     0.98799,     0.98899,     0.98999,     0.99099,     0.99199,     0.99299,     0.99399,     0.99499,       0.996,       0.997,       0.998,       0.999,           1]), array([[    0.38037,     0.38037,     0.52167,     0.58312,     0.63223,     0.65437,     0.67526,     0.69918,     0.71322,     0.73241,     0.74143,     0.75736,     0.75877,     0.76018,     0.76333,     0.76931,     0.77515,     0.77868,     0.78052,     0.78738,     0.79712,     0.80289,     0.80965,\n",
       "              0.811,     0.81235,     0.82086,     0.82314,     0.82197,     0.82009,      0.8182,     0.81959,     0.82101,      0.8223,     0.82339,     0.82447,     0.82556,     0.82641,     0.82723,     0.82806,     0.82887,     0.83078,     0.83766,     0.83889,     0.84012,     0.84124,     0.84184,\n",
       "            0.84244,     0.84305,     0.84365,     0.84425,     0.84485,      0.8471,     0.84923,     0.84967,     0.85012,     0.85056,       0.851,     0.85145,     0.85189,     0.85233,     0.85277,     0.85317,     0.85346,     0.85375,     0.85404,     0.85433,     0.85462,     0.85491,      0.8552,\n",
       "            0.85549,     0.85578,     0.85607,     0.85636,     0.85665,     0.85694,     0.86126,     0.86143,     0.86161,     0.86178,     0.86196,     0.86214,     0.86231,     0.86249,     0.86267,     0.86284,     0.86302,     0.86319,     0.86337,     0.86355,     0.86372,      0.8639,     0.86407,\n",
       "            0.86425,     0.86442,      0.8646,     0.86478,     0.86495,     0.86513,      0.8653,     0.86093,      0.8639,     0.86439,     0.86472,     0.86505,     0.86538,     0.86571,     0.86604,     0.86637,      0.8667,     0.86702,     0.86735,     0.86768,     0.86801,     0.86835,     0.86876,\n",
       "            0.86917,     0.86958,        0.87,     0.87041,     0.87082,     0.87123,     0.87164,     0.87205,     0.87246,     0.87285,     0.87325,     0.87364,     0.87404,     0.87443,     0.87483,     0.87522,     0.87561,     0.87601,      0.8764,     0.87679,     0.87714,     0.87748,     0.87782,\n",
       "            0.87816,      0.8785,     0.87884,     0.87918,     0.87952,     0.87985,     0.88019,     0.88053,     0.88087,     0.88123,     0.88196,      0.8827,     0.88343,     0.88417,      0.8849,     0.88558,     0.88571,     0.88584,     0.88597,      0.8861,     0.88622,     0.88635,     0.88648,\n",
       "            0.88661,     0.88674,     0.88686,     0.88699,     0.88712,     0.88725,     0.88738,      0.8875,     0.88763,     0.88776,     0.88789,     0.88802,     0.88814,     0.88827,      0.8884,     0.88853,     0.88865,     0.88878,     0.88891,     0.88904,     0.88916,     0.88929,     0.88942,\n",
       "            0.88955,     0.88967,      0.8898,     0.88993,     0.89037,     0.89121,     0.89204,     0.89287,     0.89371,     0.89452,     0.89508,     0.89564,      0.8962,     0.89677,     0.89733,     0.89789,     0.89845,       0.899,     0.89922,     0.89944,     0.89966,     0.89987,     0.90009,\n",
       "            0.90031,     0.90053,     0.90075,     0.90097,     0.90119,     0.90141,     0.90163,     0.90185,     0.90206,     0.90228,      0.9025,     0.90272,     0.90294,     0.90316,     0.90337,     0.90357,     0.90368,     0.90379,      0.9039,     0.90402,     0.90413,     0.90424,     0.90435,\n",
       "            0.90446,     0.90457,     0.90468,     0.90479,      0.9049,     0.90501,     0.90512,     0.90523,     0.90534,     0.90545,     0.90556,     0.90567,     0.90578,     0.90589,       0.906,     0.90611,     0.90622,     0.90633,     0.90644,     0.90655,     0.90666,     0.90677,     0.90688,\n",
       "            0.90699,      0.9071,     0.90721,     0.90732,     0.90743,     0.90754,     0.90765,     0.90776,     0.90787,     0.90798,     0.90809,       0.908,     0.90753,     0.90707,      0.9066,     0.90613,     0.90566,     0.90519,     0.90473,     0.90426,     0.90379,     0.90332,     0.90285,\n",
       "            0.90262,     0.90276,      0.9029,     0.90304,     0.90318,     0.90332,     0.90346,     0.90361,     0.90375,     0.90389,     0.90403,     0.90417,     0.90431,     0.90445,     0.90459,     0.90473,     0.90487,     0.90501,     0.90515,     0.90529,     0.90543,     0.90557,     0.90571,\n",
       "            0.90585,     0.90599,     0.90613,     0.90627,     0.90641,     0.90655,     0.90669,     0.90683,     0.90697,     0.90711,     0.90717,     0.90695,     0.90674,     0.90653,     0.90631,      0.9061,     0.90588,     0.90567,     0.90545,     0.90524,     0.90502,     0.90481,     0.90459,\n",
       "            0.90438,     0.90416,     0.90395,     0.90373,     0.90352,      0.9033,     0.90309,     0.90287,     0.90266,     0.90244,     0.90223,     0.90201,     0.90179,     0.90158,     0.90175,     0.90197,      0.9022,     0.90242,     0.90264,     0.90286,     0.90308,      0.9033,     0.90353,\n",
       "            0.90375,     0.90397,     0.90419,     0.90441,     0.90463,     0.90485,     0.90507,     0.90529,     0.90552,     0.90574,     0.90596,     0.90618,     0.90642,     0.90667,     0.90692,     0.90717,     0.90742,     0.90767,     0.90792,     0.90817,     0.90842,     0.90867,     0.90892,\n",
       "            0.90917,     0.90941,     0.90966,     0.90991,     0.91016,     0.91041,     0.91066,     0.91091,     0.91117,     0.91145,     0.91172,     0.91199,     0.91227,     0.91254,     0.91281,     0.91309,     0.91336,     0.91363,     0.91391,     0.91418,     0.91445,     0.91472,       0.915,\n",
       "            0.91527,     0.91554,     0.91582,     0.91619,     0.91656,     0.91693,      0.9173,     0.91767,     0.91803,      0.9184,     0.91877,     0.91914,      0.9195,     0.91987,     0.92024,      0.9206,     0.92046,     0.92026,     0.92007,     0.91987,     0.91967,     0.91948,     0.91928,\n",
       "            0.91909,     0.91889,      0.9187,      0.9185,      0.9183,     0.91811,     0.91791,     0.91772,     0.91752,     0.91732,     0.91713,     0.91693,     0.91673,     0.91654,     0.91634,     0.91614,     0.91595,     0.91575,     0.91555,     0.91536,     0.91516,     0.91496,     0.91554,\n",
       "            0.91655,     0.91755,     0.91855,     0.91955,     0.91944,     0.91898,     0.91852,     0.91807,     0.91761,     0.91715,     0.91669,     0.91624,     0.91578,     0.91532,     0.91486,      0.9144,     0.91398,     0.91406,     0.91413,      0.9142,     0.91428,     0.91435,     0.91442,\n",
       "             0.9145,     0.91457,     0.91464,     0.91471,     0.91479,     0.91486,     0.91493,     0.91501,     0.91508,     0.91515,     0.91522,      0.9153,     0.91537,     0.91544,     0.91552,     0.91559,     0.91566,     0.91573,     0.91581,     0.91588,     0.91595,     0.91602,      0.9161,\n",
       "            0.91617,     0.91624,     0.91631,     0.91639,     0.91646,     0.91653,      0.9166,     0.91668,     0.91675,     0.91682,      0.9169,     0.91697,     0.91704,     0.91711,     0.91719,     0.91726,     0.91733,      0.9174,     0.91748,     0.91755,     0.91762,     0.91769,     0.91776,\n",
       "            0.91784,     0.91791,     0.91798,     0.91805,     0.91813,      0.9182,     0.91827,     0.91834,     0.91842,     0.91849,     0.91856,     0.91863,      0.9187,     0.91878,     0.91885,     0.91892,     0.91906,     0.91919,     0.91932,     0.91946,     0.91959,     0.91973,     0.91986,\n",
       "            0.91999,     0.92013,     0.92026,     0.92039,     0.92053,     0.92066,     0.92079,     0.92092,     0.92106,     0.92119,     0.92132,     0.92146,     0.92159,     0.92172,     0.92186,     0.92199,     0.92212,     0.92225,     0.92239,     0.92252,     0.92265,     0.92278,     0.92292,\n",
       "            0.92305,     0.92318,     0.92331,     0.92345,     0.92358,     0.92371,     0.92384,     0.92248,     0.91947,     0.91484,     0.91194,     0.91167,     0.91139,     0.91112,     0.91085,     0.91057,      0.9103,     0.91003,     0.90975,     0.90948,     0.90921,     0.90893,     0.90866,\n",
       "            0.90838,     0.90811,     0.90784,     0.90756,     0.90729,     0.90701,     0.90674,     0.90646,     0.90619,       0.906,     0.90587,     0.90575,     0.90562,      0.9055,     0.90537,     0.90524,     0.90512,     0.90499,     0.90486,     0.90473,     0.90461,     0.90448,     0.90435,\n",
       "            0.90423,      0.9041,     0.90397,     0.90385,     0.90372,     0.90359,     0.90347,     0.90334,     0.90321,     0.90308,     0.90296,     0.90283,      0.9027,     0.90258,     0.90245,     0.90232,     0.90219,     0.90207,     0.90194,     0.90181,     0.90168,     0.90156,     0.90143,\n",
       "             0.9013,     0.90117,     0.90105,     0.90092,     0.90079,     0.90066,     0.90054,     0.90041,     0.90028,     0.90015,     0.90003,     0.89889,     0.89749,     0.89609,     0.89469,     0.89424,     0.89518,     0.89611,     0.89705,     0.89798,     0.89896,     0.90105,     0.90313,\n",
       "            0.90268,     0.90056,     0.89842,     0.89783,     0.89797,     0.89811,     0.89826,      0.8984,     0.89855,     0.89869,     0.89884,     0.89898,     0.89913,     0.89927,     0.89942,     0.89956,     0.89971,     0.89985,     0.89999,     0.90014,     0.90028,     0.90043,     0.90057,\n",
       "            0.90071,     0.90086,       0.901,     0.90115,     0.90129,     0.90143,     0.90158,     0.90172,     0.90186,     0.90201,     0.90215,     0.90229,     0.90244,     0.90258,     0.90272,     0.90274,      0.9009,     0.89905,      0.8972,     0.89754,     0.89907,     0.90058,     0.90071,\n",
       "            0.89634,     0.89517,     0.89494,     0.89471,     0.89448,     0.89425,     0.89401,     0.89378,     0.89355,     0.89332,     0.89309,     0.89285,     0.89262,     0.89239,     0.89216,     0.89193,     0.89169,     0.89146,     0.89123,       0.891,     0.89076,     0.89053,      0.8903,\n",
       "            0.89006,     0.88983,      0.8896,     0.88936,     0.88913,      0.8889,     0.88808,     0.88725,     0.88641,     0.88557,     0.88474,      0.8839,     0.88306,     0.88211,     0.88061,      0.8791,     0.87759,     0.87608,     0.87612,     0.87661,     0.87709,     0.87758,     0.87807,\n",
       "            0.87855,     0.87904,     0.87952,     0.88001,     0.88049,     0.88093,     0.88049,     0.88005,     0.87961,     0.87917,     0.87873,     0.87828,     0.87784,      0.8774,     0.87695,     0.87651,     0.87607,     0.87562,     0.87518,     0.87473,     0.87429,     0.87319,     0.87203,\n",
       "            0.87088,     0.86972,     0.86856,     0.86739,     0.86622,     0.86505,     0.86388,     0.86271,     0.86153,     0.86017,     0.85815,     0.85611,     0.85407,     0.85284,     0.85181,     0.85079,     0.84976,     0.84872,     0.84769,     0.84666,     0.84596,     0.84526,     0.84457,\n",
       "            0.84388,     0.84318,     0.84249,     0.84179,     0.84109,      0.8404,      0.8397,     0.83772,     0.83526,     0.83279,     0.82028,     0.81723,     0.81677,      0.8163,     0.81584,     0.81538,     0.81491,     0.81445,     0.81398,     0.81352,     0.81305,     0.81259,     0.81212,\n",
       "            0.81166,     0.81119,     0.81072,     0.81025,     0.80112,     0.79916,     0.79719,     0.79522,     0.79324,     0.79125,     0.78925,     0.78725,     0.78339,     0.77934,     0.77809,     0.77693,     0.77576,     0.77459,     0.77342,     0.77225,      0.7689,     0.76656,      0.7674,\n",
       "             0.7662,       0.765,      0.7638,      0.7626,     0.76139,     0.76018,      0.7588,     0.75738,     0.75596,     0.75454,     0.75311,     0.75168,     0.75061,     0.74953,     0.74845,     0.74737,     0.74629,     0.74521,     0.74412,     0.74158,     0.73374,     0.72931,     0.72366,\n",
       "            0.71549,      0.7094,     0.70707,     0.70553,     0.70399,     0.70244,      0.7009,     0.69934,     0.68912,     0.68701,      0.6849,     0.68278,     0.68055,     0.67734,     0.67412,     0.67061,     0.66573,     0.65073,     0.64401,     0.62924,     0.62509,     0.61562,     0.60311,\n",
       "             0.5969,     0.59146,     0.57556,     0.55932,     0.54719,      0.5316,     0.52355,     0.48752,     0.48119,      0.4742,     0.44684,     0.41979,     0.38018,     0.36276,     0.34871,     0.34116,     0.32776,     0.32088,     0.31643,     0.31195,     0.29756,     0.25737,     0.24614,\n",
       "            0.22352,     0.21185,     0.18541,     0.17022,     0.15755,      0.1373,      0.1098,     0.10043,    0.097777,    0.095114,    0.092444,    0.089767,    0.087082,    0.084389,    0.080117,    0.071957,    0.063728,    0.039907,    0.033839,    0.027733,     0.02159,           0,           0,\n",
       "                  0,           0,           0,           0,           0,           0,           0,           0,           0,           0,           0,           0,           0,           0,           0,           0,           0,           0,           0,           0,           0,           0,           0,\n",
       "                  0,           0,           0,           0,           0,           0,           0,           0,           0,           0,           0,           0,           0,           0,           0,           0,           0,           0,           0,           0,           0,           0,           0,\n",
       "                  0,           0,           0,           0,           0,           0,           0,           0,           0,           0,           0,           0,           0,           0,           0,           0,           0,           0,           0,           0,           0,           0,           0,\n",
       "                  0,           0,           0,           0,           0,           0,           0,           0,           0,           0,           0]]), 'Confidence', 'F1'], [array([          0,    0.001001,    0.002002,    0.003003,    0.004004,    0.005005,    0.006006,    0.007007,    0.008008,    0.009009,     0.01001,    0.011011,    0.012012,    0.013013,    0.014014,    0.015015,    0.016016,    0.017017,    0.018018,    0.019019,     0.02002,    0.021021,    0.022022,    0.023023,\n",
       "          0.024024,    0.025025,    0.026026,    0.027027,    0.028028,    0.029029,     0.03003,    0.031031,    0.032032,    0.033033,    0.034034,    0.035035,    0.036036,    0.037037,    0.038038,    0.039039,     0.04004,    0.041041,    0.042042,    0.043043,    0.044044,    0.045045,    0.046046,    0.047047,\n",
       "          0.048048,    0.049049,     0.05005,    0.051051,    0.052052,    0.053053,    0.054054,    0.055055,    0.056056,    0.057057,    0.058058,    0.059059,     0.06006,    0.061061,    0.062062,    0.063063,    0.064064,    0.065065,    0.066066,    0.067067,    0.068068,    0.069069,     0.07007,    0.071071,\n",
       "          0.072072,    0.073073,    0.074074,    0.075075,    0.076076,    0.077077,    0.078078,    0.079079,     0.08008,    0.081081,    0.082082,    0.083083,    0.084084,    0.085085,    0.086086,    0.087087,    0.088088,    0.089089,     0.09009,    0.091091,    0.092092,    0.093093,    0.094094,    0.095095,\n",
       "          0.096096,    0.097097,    0.098098,    0.099099,      0.1001,      0.1011,      0.1021,      0.1031,      0.1041,     0.10511,     0.10611,     0.10711,     0.10811,     0.10911,     0.11011,     0.11111,     0.11211,     0.11311,     0.11411,     0.11512,     0.11612,     0.11712,     0.11812,     0.11912,\n",
       "           0.12012,     0.12112,     0.12212,     0.12312,     0.12412,     0.12513,     0.12613,     0.12713,     0.12813,     0.12913,     0.13013,     0.13113,     0.13213,     0.13313,     0.13413,     0.13514,     0.13614,     0.13714,     0.13814,     0.13914,     0.14014,     0.14114,     0.14214,     0.14314,\n",
       "           0.14414,     0.14515,     0.14615,     0.14715,     0.14815,     0.14915,     0.15015,     0.15115,     0.15215,     0.15315,     0.15415,     0.15516,     0.15616,     0.15716,     0.15816,     0.15916,     0.16016,     0.16116,     0.16216,     0.16316,     0.16416,     0.16517,     0.16617,     0.16717,\n",
       "           0.16817,     0.16917,     0.17017,     0.17117,     0.17217,     0.17317,     0.17417,     0.17518,     0.17618,     0.17718,     0.17818,     0.17918,     0.18018,     0.18118,     0.18218,     0.18318,     0.18418,     0.18519,     0.18619,     0.18719,     0.18819,     0.18919,     0.19019,     0.19119,\n",
       "           0.19219,     0.19319,     0.19419,      0.1952,      0.1962,      0.1972,      0.1982,      0.1992,      0.2002,      0.2012,      0.2022,      0.2032,      0.2042,     0.20521,     0.20621,     0.20721,     0.20821,     0.20921,     0.21021,     0.21121,     0.21221,     0.21321,     0.21421,     0.21522,\n",
       "           0.21622,     0.21722,     0.21822,     0.21922,     0.22022,     0.22122,     0.22222,     0.22322,     0.22422,     0.22523,     0.22623,     0.22723,     0.22823,     0.22923,     0.23023,     0.23123,     0.23223,     0.23323,     0.23423,     0.23524,     0.23624,     0.23724,     0.23824,     0.23924,\n",
       "           0.24024,     0.24124,     0.24224,     0.24324,     0.24424,     0.24525,     0.24625,     0.24725,     0.24825,     0.24925,     0.25025,     0.25125,     0.25225,     0.25325,     0.25425,     0.25526,     0.25626,     0.25726,     0.25826,     0.25926,     0.26026,     0.26126,     0.26226,     0.26326,\n",
       "           0.26426,     0.26527,     0.26627,     0.26727,     0.26827,     0.26927,     0.27027,     0.27127,     0.27227,     0.27327,     0.27427,     0.27528,     0.27628,     0.27728,     0.27828,     0.27928,     0.28028,     0.28128,     0.28228,     0.28328,     0.28428,     0.28529,     0.28629,     0.28729,\n",
       "           0.28829,     0.28929,     0.29029,     0.29129,     0.29229,     0.29329,     0.29429,      0.2953,      0.2963,      0.2973,      0.2983,      0.2993,      0.3003,      0.3013,      0.3023,      0.3033,      0.3043,     0.30531,     0.30631,     0.30731,     0.30831,     0.30931,     0.31031,     0.31131,\n",
       "           0.31231,     0.31331,     0.31431,     0.31532,     0.31632,     0.31732,     0.31832,     0.31932,     0.32032,     0.32132,     0.32232,     0.32332,     0.32432,     0.32533,     0.32633,     0.32733,     0.32833,     0.32933,     0.33033,     0.33133,     0.33233,     0.33333,     0.33433,     0.33534,\n",
       "           0.33634,     0.33734,     0.33834,     0.33934,     0.34034,     0.34134,     0.34234,     0.34334,     0.34434,     0.34535,     0.34635,     0.34735,     0.34835,     0.34935,     0.35035,     0.35135,     0.35235,     0.35335,     0.35435,     0.35536,     0.35636,     0.35736,     0.35836,     0.35936,\n",
       "           0.36036,     0.36136,     0.36236,     0.36336,     0.36436,     0.36537,     0.36637,     0.36737,     0.36837,     0.36937,     0.37037,     0.37137,     0.37237,     0.37337,     0.37437,     0.37538,     0.37638,     0.37738,     0.37838,     0.37938,     0.38038,     0.38138,     0.38238,     0.38338,\n",
       "           0.38438,     0.38539,     0.38639,     0.38739,     0.38839,     0.38939,     0.39039,     0.39139,     0.39239,     0.39339,     0.39439,      0.3954,      0.3964,      0.3974,      0.3984,      0.3994,      0.4004,      0.4014,      0.4024,      0.4034,      0.4044,     0.40541,     0.40641,     0.40741,\n",
       "           0.40841,     0.40941,     0.41041,     0.41141,     0.41241,     0.41341,     0.41441,     0.41542,     0.41642,     0.41742,     0.41842,     0.41942,     0.42042,     0.42142,     0.42242,     0.42342,     0.42442,     0.42543,     0.42643,     0.42743,     0.42843,     0.42943,     0.43043,     0.43143,\n",
       "           0.43243,     0.43343,     0.43443,     0.43544,     0.43644,     0.43744,     0.43844,     0.43944,     0.44044,     0.44144,     0.44244,     0.44344,     0.44444,     0.44545,     0.44645,     0.44745,     0.44845,     0.44945,     0.45045,     0.45145,     0.45245,     0.45345,     0.45445,     0.45546,\n",
       "           0.45646,     0.45746,     0.45846,     0.45946,     0.46046,     0.46146,     0.46246,     0.46346,     0.46446,     0.46547,     0.46647,     0.46747,     0.46847,     0.46947,     0.47047,     0.47147,     0.47247,     0.47347,     0.47447,     0.47548,     0.47648,     0.47748,     0.47848,     0.47948,\n",
       "           0.48048,     0.48148,     0.48248,     0.48348,     0.48448,     0.48549,     0.48649,     0.48749,     0.48849,     0.48949,     0.49049,     0.49149,     0.49249,     0.49349,     0.49449,      0.4955,      0.4965,      0.4975,      0.4985,      0.4995,      0.5005,      0.5015,      0.5025,      0.5035,\n",
       "            0.5045,     0.50551,     0.50651,     0.50751,     0.50851,     0.50951,     0.51051,     0.51151,     0.51251,     0.51351,     0.51451,     0.51552,     0.51652,     0.51752,     0.51852,     0.51952,     0.52052,     0.52152,     0.52252,     0.52352,     0.52452,     0.52553,     0.52653,     0.52753,\n",
       "           0.52853,     0.52953,     0.53053,     0.53153,     0.53253,     0.53353,     0.53453,     0.53554,     0.53654,     0.53754,     0.53854,     0.53954,     0.54054,     0.54154,     0.54254,     0.54354,     0.54454,     0.54555,     0.54655,     0.54755,     0.54855,     0.54955,     0.55055,     0.55155,\n",
       "           0.55255,     0.55355,     0.55455,     0.55556,     0.55656,     0.55756,     0.55856,     0.55956,     0.56056,     0.56156,     0.56256,     0.56356,     0.56456,     0.56557,     0.56657,     0.56757,     0.56857,     0.56957,     0.57057,     0.57157,     0.57257,     0.57357,     0.57457,     0.57558,\n",
       "           0.57658,     0.57758,     0.57858,     0.57958,     0.58058,     0.58158,     0.58258,     0.58358,     0.58458,     0.58559,     0.58659,     0.58759,     0.58859,     0.58959,     0.59059,     0.59159,     0.59259,     0.59359,     0.59459,      0.5956,      0.5966,      0.5976,      0.5986,      0.5996,\n",
       "            0.6006,      0.6016,      0.6026,      0.6036,      0.6046,     0.60561,     0.60661,     0.60761,     0.60861,     0.60961,     0.61061,     0.61161,     0.61261,     0.61361,     0.61461,     0.61562,     0.61662,     0.61762,     0.61862,     0.61962,     0.62062,     0.62162,     0.62262,     0.62362,\n",
       "           0.62462,     0.62563,     0.62663,     0.62763,     0.62863,     0.62963,     0.63063,     0.63163,     0.63263,     0.63363,     0.63463,     0.63564,     0.63664,     0.63764,     0.63864,     0.63964,     0.64064,     0.64164,     0.64264,     0.64364,     0.64464,     0.64565,     0.64665,     0.64765,\n",
       "           0.64865,     0.64965,     0.65065,     0.65165,     0.65265,     0.65365,     0.65465,     0.65566,     0.65666,     0.65766,     0.65866,     0.65966,     0.66066,     0.66166,     0.66266,     0.66366,     0.66466,     0.66567,     0.66667,     0.66767,     0.66867,     0.66967,     0.67067,     0.67167,\n",
       "           0.67267,     0.67367,     0.67467,     0.67568,     0.67668,     0.67768,     0.67868,     0.67968,     0.68068,     0.68168,     0.68268,     0.68368,     0.68468,     0.68569,     0.68669,     0.68769,     0.68869,     0.68969,     0.69069,     0.69169,     0.69269,     0.69369,     0.69469,      0.6957,\n",
       "            0.6967,      0.6977,      0.6987,      0.6997,      0.7007,      0.7017,      0.7027,      0.7037,      0.7047,     0.70571,     0.70671,     0.70771,     0.70871,     0.70971,     0.71071,     0.71171,     0.71271,     0.71371,     0.71471,     0.71572,     0.71672,     0.71772,     0.71872,     0.71972,\n",
       "           0.72072,     0.72172,     0.72272,     0.72372,     0.72472,     0.72573,     0.72673,     0.72773,     0.72873,     0.72973,     0.73073,     0.73173,     0.73273,     0.73373,     0.73473,     0.73574,     0.73674,     0.73774,     0.73874,     0.73974,     0.74074,     0.74174,     0.74274,     0.74374,\n",
       "           0.74474,     0.74575,     0.74675,     0.74775,     0.74875,     0.74975,     0.75075,     0.75175,     0.75275,     0.75375,     0.75475,     0.75576,     0.75676,     0.75776,     0.75876,     0.75976,     0.76076,     0.76176,     0.76276,     0.76376,     0.76476,     0.76577,     0.76677,     0.76777,\n",
       "           0.76877,     0.76977,     0.77077,     0.77177,     0.77277,     0.77377,     0.77477,     0.77578,     0.77678,     0.77778,     0.77878,     0.77978,     0.78078,     0.78178,     0.78278,     0.78378,     0.78478,     0.78579,     0.78679,     0.78779,     0.78879,     0.78979,     0.79079,     0.79179,\n",
       "           0.79279,     0.79379,     0.79479,      0.7958,      0.7968,      0.7978,      0.7988,      0.7998,      0.8008,      0.8018,      0.8028,      0.8038,      0.8048,     0.80581,     0.80681,     0.80781,     0.80881,     0.80981,     0.81081,     0.81181,     0.81281,     0.81381,     0.81481,     0.81582,\n",
       "           0.81682,     0.81782,     0.81882,     0.81982,     0.82082,     0.82182,     0.82282,     0.82382,     0.82482,     0.82583,     0.82683,     0.82783,     0.82883,     0.82983,     0.83083,     0.83183,     0.83283,     0.83383,     0.83483,     0.83584,     0.83684,     0.83784,     0.83884,     0.83984,\n",
       "           0.84084,     0.84184,     0.84284,     0.84384,     0.84484,     0.84585,     0.84685,     0.84785,     0.84885,     0.84985,     0.85085,     0.85185,     0.85285,     0.85385,     0.85485,     0.85586,     0.85686,     0.85786,     0.85886,     0.85986,     0.86086,     0.86186,     0.86286,     0.86386,\n",
       "           0.86486,     0.86587,     0.86687,     0.86787,     0.86887,     0.86987,     0.87087,     0.87187,     0.87287,     0.87387,     0.87487,     0.87588,     0.87688,     0.87788,     0.87888,     0.87988,     0.88088,     0.88188,     0.88288,     0.88388,     0.88488,     0.88589,     0.88689,     0.88789,\n",
       "           0.88889,     0.88989,     0.89089,     0.89189,     0.89289,     0.89389,     0.89489,      0.8959,      0.8969,      0.8979,      0.8989,      0.8999,      0.9009,      0.9019,      0.9029,      0.9039,      0.9049,     0.90591,     0.90691,     0.90791,     0.90891,     0.90991,     0.91091,     0.91191,\n",
       "           0.91291,     0.91391,     0.91491,     0.91592,     0.91692,     0.91792,     0.91892,     0.91992,     0.92092,     0.92192,     0.92292,     0.92392,     0.92492,     0.92593,     0.92693,     0.92793,     0.92893,     0.92993,     0.93093,     0.93193,     0.93293,     0.93393,     0.93493,     0.93594,\n",
       "           0.93694,     0.93794,     0.93894,     0.93994,     0.94094,     0.94194,     0.94294,     0.94394,     0.94494,     0.94595,     0.94695,     0.94795,     0.94895,     0.94995,     0.95095,     0.95195,     0.95295,     0.95395,     0.95495,     0.95596,     0.95696,     0.95796,     0.95896,     0.95996,\n",
       "           0.96096,     0.96196,     0.96296,     0.96396,     0.96496,     0.96597,     0.96697,     0.96797,     0.96897,     0.96997,     0.97097,     0.97197,     0.97297,     0.97397,     0.97497,     0.97598,     0.97698,     0.97798,     0.97898,     0.97998,     0.98098,     0.98198,     0.98298,     0.98398,\n",
       "           0.98498,     0.98599,     0.98699,     0.98799,     0.98899,     0.98999,     0.99099,     0.99199,     0.99299,     0.99399,     0.99499,       0.996,       0.997,       0.998,       0.999,           1]), array([[    0.23485,     0.23485,     0.35288,      0.4134,     0.46457,     0.48888,     0.51256,     0.54065,     0.55763,     0.58145,     0.59291,     0.61353,     0.61539,     0.61725,     0.62141,     0.62938,     0.63724,     0.64664,     0.64918,     0.65873,     0.67248,     0.68072,     0.69051,\n",
       "            0.69247,     0.69443,     0.70697,     0.71035,     0.71027,     0.70947,     0.70867,     0.71078,     0.71291,     0.71487,     0.71651,     0.71816,      0.7198,      0.7211,     0.72235,     0.72361,     0.72486,     0.72778,      0.7384,     0.74032,     0.74224,     0.74398,     0.74493,\n",
       "            0.74587,     0.74682,     0.74776,     0.74871,     0.74966,      0.7532,     0.75657,     0.75728,     0.75799,     0.75869,      0.7594,      0.7601,     0.76081,     0.76151,     0.76222,     0.76285,     0.76332,     0.76378,     0.76425,     0.76472,     0.76518,     0.76565,     0.76611,\n",
       "            0.76658,     0.76704,     0.76751,     0.76798,     0.76844,     0.76891,     0.77588,     0.77617,     0.77645,     0.77674,     0.77703,     0.77731,      0.7776,     0.77789,     0.77817,     0.77846,     0.77875,     0.77903,     0.77932,     0.77961,     0.77989,     0.78018,     0.78047,\n",
       "            0.78075,     0.78104,     0.78133,     0.78161,      0.7819,     0.78219,     0.78247,      0.7824,     0.78732,     0.78813,     0.78868,     0.78923,     0.78978,     0.79032,     0.79087,     0.79142,     0.79197,     0.79252,     0.79307,     0.79362,     0.79417,     0.79474,     0.79543,\n",
       "            0.79612,     0.79681,      0.7975,     0.79819,     0.79888,     0.79957,     0.80026,     0.80095,     0.80164,     0.80232,     0.80298,     0.80365,     0.80432,     0.80499,     0.80566,     0.80632,     0.80699,     0.80766,     0.80833,       0.809,     0.80959,     0.81017,     0.81075,\n",
       "            0.81133,     0.81191,     0.81249,     0.81307,     0.81365,     0.81423,     0.81481,     0.81538,     0.81596,     0.81658,     0.81785,     0.81911,     0.82038,     0.82164,     0.82291,     0.82409,     0.82431,     0.82454,     0.82476,     0.82498,      0.8252,     0.82543,     0.82565,\n",
       "            0.82587,     0.82609,     0.82631,     0.82654,     0.82676,     0.82698,      0.8272,     0.82743,     0.82765,     0.82787,     0.82809,     0.82832,     0.82854,     0.82876,     0.82898,     0.82921,     0.82943,     0.82965,     0.82987,      0.8301,     0.83032,     0.83054,     0.83076,\n",
       "            0.83098,     0.83121,     0.83143,     0.83165,     0.83242,     0.83389,     0.83535,     0.83681,     0.83827,      0.8397,     0.84069,     0.84169,     0.84268,     0.84367,     0.84467,     0.84566,     0.84665,     0.84763,     0.84802,     0.84841,      0.8488,     0.84919,     0.84958,\n",
       "            0.84998,     0.85037,     0.85076,     0.85115,     0.85154,     0.85193,     0.85232,     0.85271,      0.8531,     0.85349,     0.85388,     0.85427,     0.85467,     0.85506,     0.85545,      0.8558,       0.856,      0.8562,      0.8564,      0.8566,      0.8568,       0.857,     0.85719,\n",
       "            0.85739,     0.85759,     0.85779,     0.85799,     0.85819,     0.85839,     0.85859,     0.85878,     0.85898,     0.85918,     0.85938,     0.85958,     0.85978,     0.85998,     0.86017,     0.86037,     0.86057,     0.86077,     0.86097,     0.86117,     0.86137,     0.86156,     0.86176,\n",
       "            0.86196,     0.86216,     0.86236,     0.86256,     0.86276,     0.86295,     0.86315,     0.86335,     0.86355,     0.86375,     0.86395,     0.86404,     0.86393,     0.86382,      0.8637,     0.86359,     0.86348,     0.86337,     0.86326,     0.86315,     0.86304,     0.86292,     0.86281,\n",
       "            0.86285,      0.8631,     0.86336,     0.86362,     0.86388,     0.86413,     0.86439,     0.86465,     0.86491,     0.86517,     0.86542,     0.86568,     0.86594,      0.8662,     0.86645,     0.86671,     0.86697,     0.86723,     0.86748,     0.86774,       0.868,     0.86826,     0.86851,\n",
       "            0.86877,     0.86903,     0.86929,     0.86954,      0.8698,     0.87006,     0.87032,     0.87057,     0.87083,     0.87109,     0.87128,     0.87123,     0.87118,     0.87113,     0.87108,     0.87103,     0.87098,     0.87093,     0.87089,     0.87084,     0.87079,     0.87074,     0.87069,\n",
       "            0.87064,     0.87059,     0.87054,     0.87049,     0.87045,      0.8704,     0.87035,      0.8703,     0.87025,      0.8702,     0.87015,      0.8701,     0.87005,     0.87001,     0.87037,     0.87078,      0.8712,     0.87161,     0.87202,     0.87244,     0.87285,     0.87327,     0.87368,\n",
       "            0.87409,     0.87451,     0.87492,     0.87534,     0.87575,     0.87617,     0.87658,     0.87699,     0.87741,     0.87782,     0.87824,     0.87865,      0.8791,     0.87957,     0.88005,     0.88052,     0.88099,     0.88146,     0.88193,      0.8824,     0.88287,     0.88334,     0.88382,\n",
       "            0.88429,     0.88476,     0.88523,      0.8857,     0.88617,     0.88664,     0.88712,     0.88759,     0.88809,     0.88861,     0.88913,     0.88965,     0.89018,      0.8907,     0.89122,     0.89174,     0.89226,     0.89278,      0.8933,     0.89382,     0.89434,     0.89487,     0.89539,\n",
       "            0.89591,     0.89643,     0.89697,     0.89768,     0.89838,     0.89909,      0.8998,     0.90051,     0.90122,     0.90193,     0.90264,     0.90335,     0.90406,     0.90477,     0.90548,     0.90619,     0.90622,     0.90619,     0.90615,     0.90612,     0.90608,     0.90605,     0.90602,\n",
       "            0.90598,     0.90595,     0.90592,     0.90588,     0.90585,     0.90581,     0.90578,     0.90575,     0.90571,     0.90568,     0.90565,     0.90561,     0.90558,     0.90554,     0.90551,     0.90548,     0.90544,     0.90541,     0.90538,     0.90534,     0.90531,     0.90528,     0.90654,\n",
       "            0.90851,     0.91048,     0.91246,     0.91443,     0.91484,     0.91477,     0.91469,     0.91462,     0.91455,     0.91448,     0.91441,     0.91433,     0.91426,     0.91419,     0.91412,     0.91404,     0.91399,     0.91414,     0.91428,     0.91443,     0.91457,     0.91472,     0.91487,\n",
       "            0.91501,     0.91516,      0.9153,     0.91545,      0.9156,     0.91574,     0.91589,     0.91603,     0.91618,     0.91633,     0.91647,     0.91662,     0.91676,     0.91691,     0.91706,      0.9172,     0.91735,     0.91749,     0.91764,     0.91779,     0.91793,     0.91808,     0.91822,\n",
       "            0.91837,     0.91852,     0.91866,     0.91881,     0.91895,      0.9191,     0.91925,     0.91939,     0.91954,     0.91968,     0.91983,     0.91998,     0.92012,     0.92027,     0.92041,     0.92056,     0.92071,     0.92085,       0.921,     0.92114,     0.92129,     0.92144,     0.92158,\n",
       "            0.92173,     0.92187,     0.92202,     0.92217,     0.92231,     0.92246,      0.9226,     0.92275,      0.9229,     0.92304,     0.92319,     0.92333,     0.92348,     0.92363,     0.92377,     0.92392,     0.92419,     0.92446,     0.92473,       0.925,     0.92527,     0.92554,     0.92582,\n",
       "            0.92609,     0.92636,     0.92663,      0.9269,     0.92717,     0.92744,     0.92771,     0.92798,     0.92825,     0.92852,     0.92879,     0.92906,     0.92933,      0.9296,     0.92987,     0.93014,     0.93041,     0.93068,     0.93095,     0.93122,     0.93149,     0.93176,     0.93203,\n",
       "             0.9323,     0.93257,     0.93284,     0.93311,     0.93338,     0.93365,     0.93392,     0.93389,     0.93351,     0.93293,     0.93257,     0.93253,      0.9325,     0.93246,     0.93243,     0.93239,     0.93236,     0.93232,     0.93229,     0.93225,     0.93222,     0.93218,     0.93215,\n",
       "            0.93211,     0.93208,     0.93204,     0.93201,     0.93197,     0.93194,      0.9319,     0.93187,     0.93183,     0.93181,     0.93179,     0.93178,     0.93176,     0.93174,     0.93173,     0.93171,     0.93169,     0.93168,     0.93166,     0.93164,     0.93163,     0.93161,      0.9316,\n",
       "            0.93158,     0.93156,     0.93155,     0.93153,     0.93151,      0.9315,     0.93148,     0.93146,     0.93145,     0.93143,     0.93141,      0.9314,     0.93138,     0.93137,     0.93135,     0.93133,     0.93132,      0.9313,     0.93128,     0.93127,     0.93125,     0.93123,     0.93122,\n",
       "             0.9312,     0.93119,     0.93117,     0.93115,     0.93114,     0.93112,      0.9311,     0.93109,     0.93107,     0.93105,     0.93104,     0.93089,     0.93071,     0.93052,     0.93034,     0.93106,      0.9331,     0.93514,     0.93718,     0.93922,     0.94136,     0.94595,     0.95055,\n",
       "            0.95226,     0.95207,     0.95187,     0.95203,     0.95235,     0.95268,       0.953,     0.95333,     0.95366,     0.95398,     0.95431,     0.95463,     0.95496,     0.95529,     0.95561,     0.95594,     0.95626,     0.95659,     0.95692,     0.95724,     0.95757,     0.95789,     0.95822,\n",
       "            0.95855,     0.95887,      0.9592,     0.95952,     0.95985,     0.96018,      0.9605,     0.96083,     0.96115,     0.96148,     0.96181,     0.96213,     0.96246,     0.96278,     0.96311,     0.96341,     0.96327,     0.96314,     0.96301,     0.96526,     0.96878,     0.97231,     0.97495,\n",
       "            0.97473,     0.97467,     0.97466,     0.97465,     0.97464,     0.97463,     0.97462,      0.9746,     0.97459,     0.97458,     0.97457,     0.97456,     0.97455,     0.97453,     0.97452,     0.97451,      0.9745,     0.97449,     0.97448,     0.97446,     0.97445,     0.97444,     0.97443,\n",
       "            0.97442,     0.97441,     0.97439,     0.97438,     0.97437,     0.97436,     0.97432,     0.97427,     0.97423,     0.97419,     0.97415,      0.9741,     0.97406,     0.97401,     0.97394,     0.97386,     0.97378,      0.9737,     0.97462,     0.97583,     0.97704,     0.97825,     0.97946,\n",
       "            0.98067,     0.98188,     0.98309,      0.9843,     0.98551,     0.98667,     0.98665,     0.98664,     0.98663,     0.98662,     0.98661,     0.98659,     0.98658,     0.98657,     0.98656,     0.98655,     0.98654,     0.98652,     0.98651,      0.9865,     0.98649,     0.98646,     0.98643,\n",
       "            0.98639,     0.98636,     0.98633,      0.9863,     0.98627,     0.98623,      0.9862,     0.98617,     0.98614,      0.9861,     0.98604,     0.98598,     0.98593,     0.98589,     0.98586,     0.98583,      0.9858,     0.98577,     0.98574,     0.98572,     0.98569,     0.98567,     0.98565,\n",
       "            0.98563,     0.98561,     0.98559,     0.98557,     0.98555,     0.98553,     0.98551,     0.98545,     0.98538,     0.98531,     0.98493,     0.98484,     0.98482,     0.98481,     0.98479,     0.98478,     0.98476,     0.98475,     0.98474,     0.98472,     0.98471,     0.98469,     0.98468,\n",
       "            0.98466,     0.98465,     0.98463,     0.98462,     0.98433,     0.98427,      0.9842,     0.98414,     0.98407,     0.98401,     0.98394,     0.98388,     0.98375,     0.98361,     0.98357,     0.98353,     0.98349,     0.98345,     0.98341,     0.98337,     0.98325,     0.99442,           1,\n",
       "                  1,           1,           1,           1,           1,           1,           1,           1,           1,           1,           1,           1,           1,           1,           1,           1,           1,           1,           1,           1,           1,           1,           1,\n",
       "                  1,           1,           1,           1,           1,           1,           1,           1,           1,           1,           1,           1,           1,           1,           1,           1,           1,           1,           1,           1,           1,           1,           1,\n",
       "                  1,           1,           1,           1,           1,           1,           1,           1,           1,           1,           1,           1,           1,           1,           1,           1,           1,           1,           1,           1,           1,           1,           1,\n",
       "                  1,           1,           1,           1,           1,           1,           1,           1,           1,           1,           1,           1,           1,           1,           1,           1,           1,           1,           1,           1,           1,           1,           1,\n",
       "                  1,           1,           1,           1,           1,           1,           1,           1,           1,           1,           1,           1,           1,           1,           1,           1,           1,           1,           1,           1,           1,           1,           1,\n",
       "                  1,           1,           1,           1,           1,           1,           1,           1,           1,           1,           1,           1,           1,           1,           1,           1,           1,           1,           1,           1,           1,           1,           1,\n",
       "                  1,           1,           1,           1,           1,           1,           1,           1,           1,           1,           1,           1,           1,           1,           1,           1,           1,           1,           1,           1,           1,           1,           1,\n",
       "                  1,           1,           1,           1,           1,           1,           1,           1,           1,           1,           1]]), 'Confidence', 'Precision'], [array([          0,    0.001001,    0.002002,    0.003003,    0.004004,    0.005005,    0.006006,    0.007007,    0.008008,    0.009009,     0.01001,    0.011011,    0.012012,    0.013013,    0.014014,    0.015015,    0.016016,    0.017017,    0.018018,    0.019019,     0.02002,    0.021021,    0.022022,    0.023023,\n",
       "          0.024024,    0.025025,    0.026026,    0.027027,    0.028028,    0.029029,     0.03003,    0.031031,    0.032032,    0.033033,    0.034034,    0.035035,    0.036036,    0.037037,    0.038038,    0.039039,     0.04004,    0.041041,    0.042042,    0.043043,    0.044044,    0.045045,    0.046046,    0.047047,\n",
       "          0.048048,    0.049049,     0.05005,    0.051051,    0.052052,    0.053053,    0.054054,    0.055055,    0.056056,    0.057057,    0.058058,    0.059059,     0.06006,    0.061061,    0.062062,    0.063063,    0.064064,    0.065065,    0.066066,    0.067067,    0.068068,    0.069069,     0.07007,    0.071071,\n",
       "          0.072072,    0.073073,    0.074074,    0.075075,    0.076076,    0.077077,    0.078078,    0.079079,     0.08008,    0.081081,    0.082082,    0.083083,    0.084084,    0.085085,    0.086086,    0.087087,    0.088088,    0.089089,     0.09009,    0.091091,    0.092092,    0.093093,    0.094094,    0.095095,\n",
       "          0.096096,    0.097097,    0.098098,    0.099099,      0.1001,      0.1011,      0.1021,      0.1031,      0.1041,     0.10511,     0.10611,     0.10711,     0.10811,     0.10911,     0.11011,     0.11111,     0.11211,     0.11311,     0.11411,     0.11512,     0.11612,     0.11712,     0.11812,     0.11912,\n",
       "           0.12012,     0.12112,     0.12212,     0.12312,     0.12412,     0.12513,     0.12613,     0.12713,     0.12813,     0.12913,     0.13013,     0.13113,     0.13213,     0.13313,     0.13413,     0.13514,     0.13614,     0.13714,     0.13814,     0.13914,     0.14014,     0.14114,     0.14214,     0.14314,\n",
       "           0.14414,     0.14515,     0.14615,     0.14715,     0.14815,     0.14915,     0.15015,     0.15115,     0.15215,     0.15315,     0.15415,     0.15516,     0.15616,     0.15716,     0.15816,     0.15916,     0.16016,     0.16116,     0.16216,     0.16316,     0.16416,     0.16517,     0.16617,     0.16717,\n",
       "           0.16817,     0.16917,     0.17017,     0.17117,     0.17217,     0.17317,     0.17417,     0.17518,     0.17618,     0.17718,     0.17818,     0.17918,     0.18018,     0.18118,     0.18218,     0.18318,     0.18418,     0.18519,     0.18619,     0.18719,     0.18819,     0.18919,     0.19019,     0.19119,\n",
       "           0.19219,     0.19319,     0.19419,      0.1952,      0.1962,      0.1972,      0.1982,      0.1992,      0.2002,      0.2012,      0.2022,      0.2032,      0.2042,     0.20521,     0.20621,     0.20721,     0.20821,     0.20921,     0.21021,     0.21121,     0.21221,     0.21321,     0.21421,     0.21522,\n",
       "           0.21622,     0.21722,     0.21822,     0.21922,     0.22022,     0.22122,     0.22222,     0.22322,     0.22422,     0.22523,     0.22623,     0.22723,     0.22823,     0.22923,     0.23023,     0.23123,     0.23223,     0.23323,     0.23423,     0.23524,     0.23624,     0.23724,     0.23824,     0.23924,\n",
       "           0.24024,     0.24124,     0.24224,     0.24324,     0.24424,     0.24525,     0.24625,     0.24725,     0.24825,     0.24925,     0.25025,     0.25125,     0.25225,     0.25325,     0.25425,     0.25526,     0.25626,     0.25726,     0.25826,     0.25926,     0.26026,     0.26126,     0.26226,     0.26326,\n",
       "           0.26426,     0.26527,     0.26627,     0.26727,     0.26827,     0.26927,     0.27027,     0.27127,     0.27227,     0.27327,     0.27427,     0.27528,     0.27628,     0.27728,     0.27828,     0.27928,     0.28028,     0.28128,     0.28228,     0.28328,     0.28428,     0.28529,     0.28629,     0.28729,\n",
       "           0.28829,     0.28929,     0.29029,     0.29129,     0.29229,     0.29329,     0.29429,      0.2953,      0.2963,      0.2973,      0.2983,      0.2993,      0.3003,      0.3013,      0.3023,      0.3033,      0.3043,     0.30531,     0.30631,     0.30731,     0.30831,     0.30931,     0.31031,     0.31131,\n",
       "           0.31231,     0.31331,     0.31431,     0.31532,     0.31632,     0.31732,     0.31832,     0.31932,     0.32032,     0.32132,     0.32232,     0.32332,     0.32432,     0.32533,     0.32633,     0.32733,     0.32833,     0.32933,     0.33033,     0.33133,     0.33233,     0.33333,     0.33433,     0.33534,\n",
       "           0.33634,     0.33734,     0.33834,     0.33934,     0.34034,     0.34134,     0.34234,     0.34334,     0.34434,     0.34535,     0.34635,     0.34735,     0.34835,     0.34935,     0.35035,     0.35135,     0.35235,     0.35335,     0.35435,     0.35536,     0.35636,     0.35736,     0.35836,     0.35936,\n",
       "           0.36036,     0.36136,     0.36236,     0.36336,     0.36436,     0.36537,     0.36637,     0.36737,     0.36837,     0.36937,     0.37037,     0.37137,     0.37237,     0.37337,     0.37437,     0.37538,     0.37638,     0.37738,     0.37838,     0.37938,     0.38038,     0.38138,     0.38238,     0.38338,\n",
       "           0.38438,     0.38539,     0.38639,     0.38739,     0.38839,     0.38939,     0.39039,     0.39139,     0.39239,     0.39339,     0.39439,      0.3954,      0.3964,      0.3974,      0.3984,      0.3994,      0.4004,      0.4014,      0.4024,      0.4034,      0.4044,     0.40541,     0.40641,     0.40741,\n",
       "           0.40841,     0.40941,     0.41041,     0.41141,     0.41241,     0.41341,     0.41441,     0.41542,     0.41642,     0.41742,     0.41842,     0.41942,     0.42042,     0.42142,     0.42242,     0.42342,     0.42442,     0.42543,     0.42643,     0.42743,     0.42843,     0.42943,     0.43043,     0.43143,\n",
       "           0.43243,     0.43343,     0.43443,     0.43544,     0.43644,     0.43744,     0.43844,     0.43944,     0.44044,     0.44144,     0.44244,     0.44344,     0.44444,     0.44545,     0.44645,     0.44745,     0.44845,     0.44945,     0.45045,     0.45145,     0.45245,     0.45345,     0.45445,     0.45546,\n",
       "           0.45646,     0.45746,     0.45846,     0.45946,     0.46046,     0.46146,     0.46246,     0.46346,     0.46446,     0.46547,     0.46647,     0.46747,     0.46847,     0.46947,     0.47047,     0.47147,     0.47247,     0.47347,     0.47447,     0.47548,     0.47648,     0.47748,     0.47848,     0.47948,\n",
       "           0.48048,     0.48148,     0.48248,     0.48348,     0.48448,     0.48549,     0.48649,     0.48749,     0.48849,     0.48949,     0.49049,     0.49149,     0.49249,     0.49349,     0.49449,      0.4955,      0.4965,      0.4975,      0.4985,      0.4995,      0.5005,      0.5015,      0.5025,      0.5035,\n",
       "            0.5045,     0.50551,     0.50651,     0.50751,     0.50851,     0.50951,     0.51051,     0.51151,     0.51251,     0.51351,     0.51451,     0.51552,     0.51652,     0.51752,     0.51852,     0.51952,     0.52052,     0.52152,     0.52252,     0.52352,     0.52452,     0.52553,     0.52653,     0.52753,\n",
       "           0.52853,     0.52953,     0.53053,     0.53153,     0.53253,     0.53353,     0.53453,     0.53554,     0.53654,     0.53754,     0.53854,     0.53954,     0.54054,     0.54154,     0.54254,     0.54354,     0.54454,     0.54555,     0.54655,     0.54755,     0.54855,     0.54955,     0.55055,     0.55155,\n",
       "           0.55255,     0.55355,     0.55455,     0.55556,     0.55656,     0.55756,     0.55856,     0.55956,     0.56056,     0.56156,     0.56256,     0.56356,     0.56456,     0.56557,     0.56657,     0.56757,     0.56857,     0.56957,     0.57057,     0.57157,     0.57257,     0.57357,     0.57457,     0.57558,\n",
       "           0.57658,     0.57758,     0.57858,     0.57958,     0.58058,     0.58158,     0.58258,     0.58358,     0.58458,     0.58559,     0.58659,     0.58759,     0.58859,     0.58959,     0.59059,     0.59159,     0.59259,     0.59359,     0.59459,      0.5956,      0.5966,      0.5976,      0.5986,      0.5996,\n",
       "            0.6006,      0.6016,      0.6026,      0.6036,      0.6046,     0.60561,     0.60661,     0.60761,     0.60861,     0.60961,     0.61061,     0.61161,     0.61261,     0.61361,     0.61461,     0.61562,     0.61662,     0.61762,     0.61862,     0.61962,     0.62062,     0.62162,     0.62262,     0.62362,\n",
       "           0.62462,     0.62563,     0.62663,     0.62763,     0.62863,     0.62963,     0.63063,     0.63163,     0.63263,     0.63363,     0.63463,     0.63564,     0.63664,     0.63764,     0.63864,     0.63964,     0.64064,     0.64164,     0.64264,     0.64364,     0.64464,     0.64565,     0.64665,     0.64765,\n",
       "           0.64865,     0.64965,     0.65065,     0.65165,     0.65265,     0.65365,     0.65465,     0.65566,     0.65666,     0.65766,     0.65866,     0.65966,     0.66066,     0.66166,     0.66266,     0.66366,     0.66466,     0.66567,     0.66667,     0.66767,     0.66867,     0.66967,     0.67067,     0.67167,\n",
       "           0.67267,     0.67367,     0.67467,     0.67568,     0.67668,     0.67768,     0.67868,     0.67968,     0.68068,     0.68168,     0.68268,     0.68368,     0.68468,     0.68569,     0.68669,     0.68769,     0.68869,     0.68969,     0.69069,     0.69169,     0.69269,     0.69369,     0.69469,      0.6957,\n",
       "            0.6967,      0.6977,      0.6987,      0.6997,      0.7007,      0.7017,      0.7027,      0.7037,      0.7047,     0.70571,     0.70671,     0.70771,     0.70871,     0.70971,     0.71071,     0.71171,     0.71271,     0.71371,     0.71471,     0.71572,     0.71672,     0.71772,     0.71872,     0.71972,\n",
       "           0.72072,     0.72172,     0.72272,     0.72372,     0.72472,     0.72573,     0.72673,     0.72773,     0.72873,     0.72973,     0.73073,     0.73173,     0.73273,     0.73373,     0.73473,     0.73574,     0.73674,     0.73774,     0.73874,     0.73974,     0.74074,     0.74174,     0.74274,     0.74374,\n",
       "           0.74474,     0.74575,     0.74675,     0.74775,     0.74875,     0.74975,     0.75075,     0.75175,     0.75275,     0.75375,     0.75475,     0.75576,     0.75676,     0.75776,     0.75876,     0.75976,     0.76076,     0.76176,     0.76276,     0.76376,     0.76476,     0.76577,     0.76677,     0.76777,\n",
       "           0.76877,     0.76977,     0.77077,     0.77177,     0.77277,     0.77377,     0.77477,     0.77578,     0.77678,     0.77778,     0.77878,     0.77978,     0.78078,     0.78178,     0.78278,     0.78378,     0.78478,     0.78579,     0.78679,     0.78779,     0.78879,     0.78979,     0.79079,     0.79179,\n",
       "           0.79279,     0.79379,     0.79479,      0.7958,      0.7968,      0.7978,      0.7988,      0.7998,      0.8008,      0.8018,      0.8028,      0.8038,      0.8048,     0.80581,     0.80681,     0.80781,     0.80881,     0.80981,     0.81081,     0.81181,     0.81281,     0.81381,     0.81481,     0.81582,\n",
       "           0.81682,     0.81782,     0.81882,     0.81982,     0.82082,     0.82182,     0.82282,     0.82382,     0.82482,     0.82583,     0.82683,     0.82783,     0.82883,     0.82983,     0.83083,     0.83183,     0.83283,     0.83383,     0.83483,     0.83584,     0.83684,     0.83784,     0.83884,     0.83984,\n",
       "           0.84084,     0.84184,     0.84284,     0.84384,     0.84484,     0.84585,     0.84685,     0.84785,     0.84885,     0.84985,     0.85085,     0.85185,     0.85285,     0.85385,     0.85485,     0.85586,     0.85686,     0.85786,     0.85886,     0.85986,     0.86086,     0.86186,     0.86286,     0.86386,\n",
       "           0.86486,     0.86587,     0.86687,     0.86787,     0.86887,     0.86987,     0.87087,     0.87187,     0.87287,     0.87387,     0.87487,     0.87588,     0.87688,     0.87788,     0.87888,     0.87988,     0.88088,     0.88188,     0.88288,     0.88388,     0.88488,     0.88589,     0.88689,     0.88789,\n",
       "           0.88889,     0.88989,     0.89089,     0.89189,     0.89289,     0.89389,     0.89489,      0.8959,      0.8969,      0.8979,      0.8989,      0.8999,      0.9009,      0.9019,      0.9029,      0.9039,      0.9049,     0.90591,     0.90691,     0.90791,     0.90891,     0.90991,     0.91091,     0.91191,\n",
       "           0.91291,     0.91391,     0.91491,     0.91592,     0.91692,     0.91792,     0.91892,     0.91992,     0.92092,     0.92192,     0.92292,     0.92392,     0.92492,     0.92593,     0.92693,     0.92793,     0.92893,     0.92993,     0.93093,     0.93193,     0.93293,     0.93393,     0.93493,     0.93594,\n",
       "           0.93694,     0.93794,     0.93894,     0.93994,     0.94094,     0.94194,     0.94294,     0.94394,     0.94494,     0.94595,     0.94695,     0.94795,     0.94895,     0.94995,     0.95095,     0.95195,     0.95295,     0.95395,     0.95495,     0.95596,     0.95696,     0.95796,     0.95896,     0.95996,\n",
       "           0.96096,     0.96196,     0.96296,     0.96396,     0.96496,     0.96597,     0.96697,     0.96797,     0.96897,     0.96997,     0.97097,     0.97197,     0.97297,     0.97397,     0.97497,     0.97598,     0.97698,     0.97798,     0.97898,     0.97998,     0.98098,     0.98198,     0.98298,     0.98398,\n",
       "           0.98498,     0.98599,     0.98699,     0.98799,     0.98899,     0.98999,     0.99099,     0.99199,     0.99299,     0.99399,     0.99499,       0.996,       0.997,       0.998,       0.999,           1]), array([[          1,           1,           1,     0.98925,     0.98925,     0.98925,     0.98925,     0.98925,     0.98925,     0.98925,     0.98925,     0.98925,     0.98925,     0.98925,     0.98925,     0.98925,     0.98925,     0.97849,     0.97849,     0.97849,     0.97849,     0.97849,     0.97849,\n",
       "            0.97849,     0.97849,     0.97849,     0.97849,     0.97536,     0.97157,     0.96777,     0.96774,     0.96774,     0.96774,     0.96774,     0.96774,     0.96774,     0.96774,     0.96774,     0.96774,     0.96774,     0.96774,     0.96774,     0.96774,     0.96774,     0.96774,     0.96774,\n",
       "            0.96774,     0.96774,     0.96774,     0.96774,     0.96774,     0.96774,     0.96774,     0.96774,     0.96774,     0.96774,     0.96774,     0.96774,     0.96774,     0.96774,     0.96774,     0.96774,     0.96774,     0.96774,     0.96774,     0.96774,     0.96774,     0.96774,     0.96774,\n",
       "            0.96774,     0.96774,     0.96774,     0.96774,     0.96774,     0.96774,     0.96774,     0.96774,     0.96774,     0.96774,     0.96774,     0.96774,     0.96774,     0.96774,     0.96774,     0.96774,     0.96774,     0.96774,     0.96774,     0.96774,     0.96774,     0.96774,     0.96774,\n",
       "            0.96774,     0.96774,     0.96774,     0.96774,     0.96774,     0.96774,     0.96774,     0.95699,     0.95699,     0.95699,     0.95699,     0.95699,     0.95699,     0.95699,     0.95699,     0.95699,     0.95699,     0.95699,     0.95699,     0.95699,     0.95699,     0.95699,     0.95699,\n",
       "            0.95699,     0.95699,     0.95699,     0.95699,     0.95699,     0.95699,     0.95699,     0.95699,     0.95699,     0.95699,     0.95699,     0.95699,     0.95699,     0.95699,     0.95699,     0.95699,     0.95699,     0.95699,     0.95699,     0.95699,     0.95699,     0.95699,     0.95699,\n",
       "            0.95699,     0.95699,     0.95699,     0.95699,     0.95699,     0.95699,     0.95699,     0.95699,     0.95699,     0.95699,     0.95699,     0.95699,     0.95699,     0.95699,     0.95699,     0.95699,     0.95699,     0.95699,     0.95699,     0.95699,     0.95699,     0.95699,     0.95699,\n",
       "            0.95699,     0.95699,     0.95699,     0.95699,     0.95699,     0.95699,     0.95699,     0.95699,     0.95699,     0.95699,     0.95699,     0.95699,     0.95699,     0.95699,     0.95699,     0.95699,     0.95699,     0.95699,     0.95699,     0.95699,     0.95699,     0.95699,     0.95699,\n",
       "            0.95699,     0.95699,     0.95699,     0.95699,     0.95699,     0.95699,     0.95699,     0.95699,     0.95699,     0.95699,     0.95699,     0.95699,     0.95699,     0.95699,     0.95699,     0.95699,     0.95699,     0.95699,     0.95699,     0.95699,     0.95699,     0.95699,     0.95699,\n",
       "            0.95699,     0.95699,     0.95699,     0.95699,     0.95699,     0.95699,     0.95699,     0.95699,     0.95699,     0.95699,     0.95699,     0.95699,     0.95699,     0.95699,     0.95699,     0.95699,     0.95699,     0.95699,     0.95699,     0.95699,     0.95699,     0.95699,     0.95699,\n",
       "            0.95699,     0.95699,     0.95699,     0.95699,     0.95699,     0.95699,     0.95699,     0.95699,     0.95699,     0.95699,     0.95699,     0.95699,     0.95699,     0.95699,     0.95699,     0.95699,     0.95699,     0.95699,     0.95699,     0.95699,     0.95699,     0.95699,     0.95699,\n",
       "            0.95699,     0.95699,     0.95699,     0.95699,     0.95699,     0.95699,     0.95699,     0.95699,     0.95699,     0.95699,     0.95699,     0.95668,     0.95578,     0.95488,     0.95398,     0.95308,     0.95218,     0.95128,     0.95038,     0.94948,     0.94858,     0.94768,     0.94678,\n",
       "            0.94624,     0.94624,     0.94624,     0.94624,     0.94624,     0.94624,     0.94624,     0.94624,     0.94624,     0.94624,     0.94624,     0.94624,     0.94624,     0.94624,     0.94624,     0.94624,     0.94624,     0.94624,     0.94624,     0.94624,     0.94624,     0.94624,     0.94624,\n",
       "            0.94624,     0.94624,     0.94624,     0.94624,     0.94624,     0.94624,     0.94624,     0.94624,     0.94624,     0.94624,     0.94614,     0.94574,     0.94533,     0.94492,     0.94451,      0.9441,     0.94369,     0.94329,     0.94288,     0.94247,     0.94206,     0.94165,     0.94125,\n",
       "            0.94084,     0.94043,     0.94002,     0.93961,      0.9392,      0.9388,     0.93839,     0.93798,     0.93757,     0.93716,     0.93675,     0.93635,     0.93594,     0.93553,     0.93548,     0.93548,     0.93548,     0.93548,     0.93548,     0.93548,     0.93548,     0.93548,     0.93548,\n",
       "            0.93548,     0.93548,     0.93548,     0.93548,     0.93548,     0.93548,     0.93548,     0.93548,     0.93548,     0.93548,     0.93548,     0.93548,     0.93548,     0.93548,     0.93548,     0.93548,     0.93548,     0.93548,     0.93548,     0.93548,     0.93548,     0.93548,     0.93548,\n",
       "            0.93548,     0.93548,     0.93548,     0.93548,     0.93548,     0.93548,     0.93548,     0.93548,     0.93548,     0.93548,     0.93548,     0.93548,     0.93548,     0.93548,     0.93548,     0.93548,     0.93548,     0.93548,     0.93548,     0.93548,     0.93548,     0.93548,     0.93548,\n",
       "            0.93548,     0.93548,     0.93548,     0.93548,     0.93548,     0.93548,     0.93548,     0.93548,     0.93548,     0.93548,     0.93548,     0.93548,     0.93548,     0.93548,     0.93548,     0.93548,     0.93515,     0.93478,     0.93441,     0.93405,     0.93368,     0.93331,     0.93294,\n",
       "            0.93258,     0.93221,     0.93184,     0.93147,     0.93111,     0.93074,     0.93037,     0.93001,     0.92964,     0.92927,      0.9289,     0.92854,     0.92817,      0.9278,     0.92743,     0.92707,      0.9267,     0.92633,     0.92596,      0.9256,     0.92523,     0.92486,     0.92473,\n",
       "            0.92473,     0.92473,     0.92473,     0.92473,     0.92408,     0.92323,     0.92239,     0.92154,     0.92069,     0.91984,     0.91899,     0.91815,      0.9173,     0.91645,      0.9156,     0.91475,     0.91398,     0.91398,     0.91398,     0.91398,     0.91398,     0.91398,     0.91398,\n",
       "            0.91398,     0.91398,     0.91398,     0.91398,     0.91398,     0.91398,     0.91398,     0.91398,     0.91398,     0.91398,     0.91398,     0.91398,     0.91398,     0.91398,     0.91398,     0.91398,     0.91398,     0.91398,     0.91398,     0.91398,     0.91398,     0.91398,     0.91398,\n",
       "            0.91398,     0.91398,     0.91398,     0.91398,     0.91398,     0.91398,     0.91398,     0.91398,     0.91398,     0.91398,     0.91398,     0.91398,     0.91398,     0.91398,     0.91398,     0.91398,     0.91398,     0.91398,     0.91398,     0.91398,     0.91398,     0.91398,     0.91398,\n",
       "            0.91398,     0.91398,     0.91398,     0.91398,     0.91398,     0.91398,     0.91398,     0.91398,     0.91398,     0.91398,     0.91398,     0.91398,     0.91398,     0.91398,     0.91398,     0.91398,     0.91398,     0.91398,     0.91398,     0.91398,     0.91398,     0.91398,     0.91398,\n",
       "            0.91398,     0.91398,     0.91398,     0.91398,     0.91398,     0.91398,     0.91398,     0.91398,     0.91398,     0.91398,     0.91398,     0.91398,     0.91398,     0.91398,     0.91398,     0.91398,     0.91398,     0.91398,     0.91398,     0.91398,     0.91398,     0.91398,     0.91398,\n",
       "            0.91398,     0.91398,     0.91398,     0.91398,     0.91398,     0.91398,     0.91398,     0.91135,     0.90584,     0.89743,      0.8922,     0.89171,     0.89122,     0.89073,     0.89024,     0.88975,     0.88926,     0.88877,     0.88828,     0.88779,      0.8873,     0.88682,     0.88633,\n",
       "            0.88584,     0.88535,     0.88486,     0.88437,     0.88388,     0.88339,      0.8829,     0.88241,     0.88192,     0.88159,     0.88136,     0.88114,     0.88091,     0.88069,     0.88046,     0.88024,     0.88001,     0.87979,     0.87956,     0.87934,     0.87911,     0.87889,     0.87866,\n",
       "            0.87844,     0.87821,     0.87799,     0.87776,     0.87754,     0.87731,     0.87709,     0.87686,     0.87664,     0.87641,     0.87619,     0.87596,     0.87574,     0.87551,     0.87529,     0.87506,     0.87484,     0.87461,     0.87439,     0.87416,     0.87394,     0.87371,     0.87349,\n",
       "            0.87326,     0.87304,     0.87281,     0.87259,     0.87236,     0.87214,     0.87191,     0.87169,     0.87146,     0.87124,     0.87101,     0.86902,     0.86657,     0.86412,     0.86167,     0.86022,     0.86022,     0.86022,     0.86022,     0.86022,     0.86022,     0.86022,     0.86022,\n",
       "            0.85801,     0.85433,     0.85066,     0.84946,     0.84946,     0.84946,     0.84946,     0.84946,     0.84946,     0.84946,     0.84946,     0.84946,     0.84946,     0.84946,     0.84946,     0.84946,     0.84946,     0.84946,     0.84946,     0.84946,     0.84946,     0.84946,     0.84946,\n",
       "            0.84946,     0.84946,     0.84946,     0.84946,     0.84946,     0.84946,     0.84946,     0.84946,     0.84946,     0.84946,     0.84946,     0.84946,     0.84946,     0.84946,     0.84946,     0.84926,     0.84611,     0.84296,     0.83981,     0.83871,     0.83871,     0.83871,     0.83697,\n",
       "            0.82963,     0.82766,     0.82727,     0.82688,      0.8265,     0.82611,     0.82572,     0.82534,     0.82495,     0.82456,     0.82418,     0.82379,      0.8234,     0.82302,     0.82263,     0.82224,     0.82186,     0.82147,     0.82108,      0.8207,     0.82031,     0.81992,     0.81954,\n",
       "            0.81915,     0.81876,     0.81838,     0.81799,      0.8176,     0.81722,     0.81587,     0.81449,     0.81311,     0.81174,     0.81036,     0.80898,      0.8076,     0.80605,      0.8036,     0.80115,      0.7987,     0.79625,      0.7957,      0.7957,      0.7957,      0.7957,      0.7957,\n",
       "             0.7957,      0.7957,      0.7957,      0.7957,      0.7957,     0.79567,     0.79496,     0.79425,     0.79354,     0.79282,     0.79211,      0.7914,     0.79069,     0.78998,     0.78927,     0.78856,     0.78785,     0.78714,     0.78642,     0.78571,       0.785,     0.78325,     0.78142,\n",
       "            0.77958,     0.77774,     0.77591,     0.77407,     0.77223,      0.7704,     0.76856,     0.76672,     0.76488,     0.76277,     0.75962,     0.75647,     0.75332,     0.75143,     0.74986,     0.74828,     0.74671,     0.74513,     0.74356,     0.74198,     0.74092,     0.73987,     0.73882,\n",
       "            0.73777,     0.73672,     0.73567,     0.73462,     0.73357,     0.73252,     0.73147,     0.72851,     0.72484,     0.72117,      0.7028,     0.69837,     0.69771,     0.69704,     0.69637,      0.6957,     0.69503,     0.69437,      0.6937,     0.69303,     0.69236,     0.69169,     0.69103,\n",
       "            0.69036,     0.68969,     0.68902,     0.68835,     0.67542,     0.67266,     0.66991,     0.66715,     0.66439,     0.66164,     0.65888,     0.65613,     0.65083,     0.64532,     0.64363,     0.64206,     0.64048,     0.63891,     0.63733,     0.63576,     0.63128,     0.62366,     0.62259,\n",
       "            0.62101,     0.61944,     0.61786,     0.61629,     0.61471,     0.61314,     0.61134,     0.60951,     0.60767,     0.60583,     0.60399,     0.60216,     0.60078,      0.5994,     0.59802,     0.59665,     0.59527,     0.59389,     0.59251,     0.58929,     0.57946,     0.57394,     0.56698,\n",
       "            0.55702,     0.54967,     0.54687,     0.54503,      0.5432,     0.54136,     0.53952,     0.53769,      0.5257,     0.52325,      0.5208,     0.51835,     0.51578,     0.51211,     0.50843,     0.50445,     0.49894,     0.48228,     0.47493,     0.45905,     0.45464,     0.44469,     0.43175,\n",
       "            0.42542,     0.41991,     0.40407,     0.38824,     0.37665,     0.36203,      0.3546,     0.32233,     0.31682,     0.31078,      0.2877,     0.26565,     0.23471,     0.22157,     0.21117,     0.20566,       0.196,      0.1911,     0.18795,      0.1848,     0.17479,     0.14769,     0.14034,\n",
       "            0.12582,     0.11848,     0.10218,    0.093029,     0.08551,    0.073708,     0.05809,    0.052871,    0.051401,    0.049932,    0.048462,    0.046993,    0.045523,    0.044053,     0.04173,    0.037321,    0.032912,     0.02036,    0.017211,    0.014062,    0.010913,           0,           0,\n",
       "                  0,           0,           0,           0,           0,           0,           0,           0,           0,           0,           0,           0,           0,           0,           0,           0,           0,           0,           0,           0,           0,           0,           0,\n",
       "                  0,           0,           0,           0,           0,           0,           0,           0,           0,           0,           0,           0,           0,           0,           0,           0,           0,           0,           0,           0,           0,           0,           0,\n",
       "                  0,           0,           0,           0,           0,           0,           0,           0,           0,           0,           0,           0,           0,           0,           0,           0,           0,           0,           0,           0,           0,           0,           0,\n",
       "                  0,           0,           0,           0,           0,           0,           0,           0,           0,           0,           0]]), 'Confidence', 'Recall']]\n",
       "fitness: np.float64(0.7787564354876086)\n",
       "keys: ['metrics/precision(B)', 'metrics/recall(B)', 'metrics/mAP50(B)', 'metrics/mAP50-95(B)']\n",
       "maps: array([    0.75772])\n",
       "names: {0: 'door'}\n",
       "plot: True\n",
       "results_dict: {'metrics/precision(B)': np.float64(0.9224585098419051), 'metrics/recall(B)': np.float64(0.9139784946236559), 'metrics/mAP50(B)': np.float64(0.9681228746752814), 'metrics/mAP50-95(B)': np.float64(0.7577157200223117), 'fitness': np.float64(0.7787564354876086)}\n",
       "save_dir: WindowsPath('runs/detect/train21')\n",
       "speed: {'preprocess': 0.48567226954868864, 'inference': 6.314311708722796, 'loss': 0.0, 'postprocess': 1.2572765350341797}\n",
       "task: 'detect'"
      ]
     },
     "execution_count": 5,
     "metadata": {},
     "output_type": "execute_result"
    }
   ],
   "source": [
    "model.train(data='dataset.yaml', epochs=50 ,batch=8)"
   ]
  },
  {
   "cell_type": "code",
   "execution_count": 6,
   "metadata": {},
   "outputs": [
    {
     "name": "stdout",
     "output_type": "stream",
     "text": [
      "Ultralytics 8.3.70  Python-3.11.0 torch-2.5.1+cu118 CUDA:0 (NVIDIA GeForce RTX 3060 Laptop GPU, 6144MiB)\n",
      "Model summary (fused): 168 layers, 11,125,971 parameters, 0 gradients, 28.4 GFLOPs\n"
     ]
    },
    {
     "name": "stderr",
     "output_type": "stream",
     "text": [
      "\u001b[34m\u001b[1mval: \u001b[0mScanning C:\\Users\\antan\\Desktop\\EEC174\\AURA\\YoloDoorDetector\\Training_Testing\\KemperDataset\\test\\labels.cache... 34 images, 4 backgrounds, 0 corrupt: 100%|██████████| 34/34 [00:00<?, ?it/s]\n",
      "                 Class     Images  Instances      Box(P          R      mAP50  mAP50-95): 100%|██████████| 3/3 [00:11<00:00,  3.93s/it]\n"
     ]
    },
    {
     "name": "stdout",
     "output_type": "stream",
     "text": [
      "                   all         34         41      0.909      0.971      0.981      0.754\n",
      "Speed: 28.5ms preprocess, 22.4ms inference, 0.0ms loss, 18.4ms postprocess per image\n",
      "Results saved to \u001b[1mruns\\detect\\val3\u001b[0m\n"
     ]
    }
   ],
   "source": [
    "model = YOLO(\"C:\\\\Users\\\\antan\\\\Desktop\\\\EEC174\\\\AURA\\\\YoloDoorDetector\\\\Training_Testing\\\\runs\\\\detect\\\\train21\\\\weights\\\\best.pt\")\n",
    "\n",
    "# Run validation on test set\n",
    "results = model.val(data=\"dataset.yaml\", split=\"test\") "
   ]
  },
  {
   "cell_type": "code",
   "execution_count": 7,
   "metadata": {},
   "outputs": [
    {
     "name": "stdout",
     "output_type": "stream",
     "text": [
      "\n",
      "image 1/34 C:\\Users\\antan\\Desktop\\EEC174\\AURA\\YoloDoorDetector\\Training_Testing\\KemperDataset\\test\\images\\IMG_1212_jpg.rf.df651330688d440cf119b6d9ff053213.jpg: 640x640 1 door, 24.0ms\n",
      "image 2/34 C:\\Users\\antan\\Desktop\\EEC174\\AURA\\YoloDoorDetector\\Training_Testing\\KemperDataset\\test\\images\\IMG_1217_jpg.rf.5eda77420ba3570c4257ff219c32a6d8.jpg: 640x640 1 door, 25.0ms\n",
      "image 3/34 C:\\Users\\antan\\Desktop\\EEC174\\AURA\\YoloDoorDetector\\Training_Testing\\KemperDataset\\test\\images\\IMG_1221_jpg.rf.e52d12597e1c2e4d0cc2470db4ed4c18.jpg: 640x640 2 doors, 26.0ms\n",
      "image 4/34 C:\\Users\\antan\\Desktop\\EEC174\\AURA\\YoloDoorDetector\\Training_Testing\\KemperDataset\\test\\images\\IMG_1236_jpg.rf.d32c798755b8f8cca4f0c90b240c39ef.jpg: 640x640 1 door, 25.0ms\n",
      "image 5/34 C:\\Users\\antan\\Desktop\\EEC174\\AURA\\YoloDoorDetector\\Training_Testing\\KemperDataset\\test\\images\\IMG_1270_jpg.rf.5991334f9745a026dec77085a3380809.jpg: 640x640 1 door, 25.0ms\n",
      "image 6/34 C:\\Users\\antan\\Desktop\\EEC174\\AURA\\YoloDoorDetector\\Training_Testing\\KemperDataset\\test\\images\\IMG_1274_jpg.rf.1af450bee356cc9aea42fbaec2316d3c.jpg: 640x640 1 door, 25.0ms\n",
      "image 7/34 C:\\Users\\antan\\Desktop\\EEC174\\AURA\\YoloDoorDetector\\Training_Testing\\KemperDataset\\test\\images\\IMG_1284_jpg.rf.4869f72e1161bedb24dcf2682970b4c9.jpg: 640x640 2 doors, 16.0ms\n",
      "image 8/34 C:\\Users\\antan\\Desktop\\EEC174\\AURA\\YoloDoorDetector\\Training_Testing\\KemperDataset\\test\\images\\IMG_1287_jpg.rf.9743af0595f315becdc1b05647da3f82.jpg: 640x640 2 doors, 16.0ms\n",
      "image 9/34 C:\\Users\\antan\\Desktop\\EEC174\\AURA\\YoloDoorDetector\\Training_Testing\\KemperDataset\\test\\images\\IMG_1289_jpg.rf.1f8a2e441f52d8b502f28b9a17e91172.jpg: 640x640 2 doors, 16.0ms\n",
      "image 10/34 C:\\Users\\antan\\Desktop\\EEC174\\AURA\\YoloDoorDetector\\Training_Testing\\KemperDataset\\test\\images\\IMG_1324_jpg.rf.4a4486e2123b29a00f8487ac36e11cd6.jpg: 640x640 2 doors, 16.0ms\n",
      "image 11/34 C:\\Users\\antan\\Desktop\\EEC174\\AURA\\YoloDoorDetector\\Training_Testing\\KemperDataset\\test\\images\\IMG_1337_jpg.rf.a0e07d2be45ec87d70e38d4ac021fd58.jpg: 640x640 1 door, 16.0ms\n",
      "image 12/34 C:\\Users\\antan\\Desktop\\EEC174\\AURA\\YoloDoorDetector\\Training_Testing\\KemperDataset\\test\\images\\IMG_1528_jpg.rf.e5055e411d0efc19bc4b922c24570ac5.jpg: 640x640 (no detections), 16.0ms\n",
      "image 13/34 C:\\Users\\antan\\Desktop\\EEC174\\AURA\\YoloDoorDetector\\Training_Testing\\KemperDataset\\test\\images\\IMG_1533_jpg.rf.44fb9e4c85157c88830692a34e489f59.jpg: 640x640 2 doors, 16.0ms\n",
      "image 14/34 C:\\Users\\antan\\Desktop\\EEC174\\AURA\\YoloDoorDetector\\Training_Testing\\KemperDataset\\test\\images\\IMG_1534_jpg.rf.a334f9e3add08e868811853445b03d10.jpg: 640x640 3 doors, 12.0ms\n",
      "image 15/34 C:\\Users\\antan\\Desktop\\EEC174\\AURA\\YoloDoorDetector\\Training_Testing\\KemperDataset\\test\\images\\IMG_1536_jpg.rf.d4ad366e5b10f205a062aa61d0dc3d8a.jpg: 640x640 (no detections), 12.0ms\n",
      "image 16/34 C:\\Users\\antan\\Desktop\\EEC174\\AURA\\YoloDoorDetector\\Training_Testing\\KemperDataset\\test\\images\\IMG_1564_jpg.rf.0c3c8b79c1945dc47f8be2255b3ad7a0.jpg: 640x640 1 door, 12.0ms\n",
      "image 17/34 C:\\Users\\antan\\Desktop\\EEC174\\AURA\\YoloDoorDetector\\Training_Testing\\KemperDataset\\test\\images\\IMG_1569_jpg.rf.82209a9a58a579175877e0f6c0f1c55d.jpg: 640x640 2 doors, 12.0ms\n",
      "image 18/34 C:\\Users\\antan\\Desktop\\EEC174\\AURA\\YoloDoorDetector\\Training_Testing\\KemperDataset\\test\\images\\IMG_1573_jpg.rf.dde075320e375607a3a0c1c76c145499.jpg: 640x640 2 doors, 12.0ms\n",
      "image 19/34 C:\\Users\\antan\\Desktop\\EEC174\\AURA\\YoloDoorDetector\\Training_Testing\\KemperDataset\\test\\images\\IMG_1586_jpg.rf.3f63aa13f9adcb478f73b1bee5da214a.jpg: 640x640 (no detections), 12.0ms\n",
      "image 20/34 C:\\Users\\antan\\Desktop\\EEC174\\AURA\\YoloDoorDetector\\Training_Testing\\KemperDataset\\test\\images\\IMG_1606_jpg.rf.8a14d80bbfb5a3dd967a4decce8361c5.jpg: 640x640 1 door, 12.0ms\n",
      "image 21/34 C:\\Users\\antan\\Desktop\\EEC174\\AURA\\YoloDoorDetector\\Training_Testing\\KemperDataset\\test\\images\\IMG_1608_jpg.rf.25349210e602dcde900c920ecb63e68f.jpg: 640x640 (no detections), 12.0ms\n",
      "image 22/34 C:\\Users\\antan\\Desktop\\EEC174\\AURA\\YoloDoorDetector\\Training_Testing\\KemperDataset\\test\\images\\IMG_3152_png.rf.b5d9a932b2cadd19e4e6ef6678a831a4.jpg: 640x640 1 door, 12.0ms\n",
      "image 23/34 C:\\Users\\antan\\Desktop\\EEC174\\AURA\\YoloDoorDetector\\Training_Testing\\KemperDataset\\test\\images\\IMG_3155_png.rf.c6af36594d2988cf7504386d3018ff58.jpg: 640x640 1 door, 10.0ms\n",
      "image 24/34 C:\\Users\\antan\\Desktop\\EEC174\\AURA\\YoloDoorDetector\\Training_Testing\\KemperDataset\\test\\images\\IMG_3156_png.rf.2b1815c7d7c3b33f1330496e29c93b19.jpg: 640x640 1 door, 10.0ms\n",
      "image 25/34 C:\\Users\\antan\\Desktop\\EEC174\\AURA\\YoloDoorDetector\\Training_Testing\\KemperDataset\\test\\images\\IMG_3171_png.rf.cc25c06c5470293e52abdfd32e0d24eb.jpg: 640x640 1 door, 11.0ms\n",
      "image 26/34 C:\\Users\\antan\\Desktop\\EEC174\\AURA\\YoloDoorDetector\\Training_Testing\\KemperDataset\\test\\images\\IMG_3172_png.rf.660e475689d99dd3a31850cd88739211.jpg: 640x640 1 door, 10.0ms\n",
      "image 27/34 C:\\Users\\antan\\Desktop\\EEC174\\AURA\\YoloDoorDetector\\Training_Testing\\KemperDataset\\test\\images\\IMG_3177_png.rf.d9caa29d014717cec544e437522b6207.jpg: 640x640 1 door, 10.0ms\n",
      "image 28/34 C:\\Users\\antan\\Desktop\\EEC174\\AURA\\YoloDoorDetector\\Training_Testing\\KemperDataset\\test\\images\\IMG_3184_png.rf.6cbea1f6c0a5d395382854cf926823a5.jpg: 640x640 1 door, 10.0ms\n",
      "image 29/34 C:\\Users\\antan\\Desktop\\EEC174\\AURA\\YoloDoorDetector\\Training_Testing\\KemperDataset\\test\\images\\IMG_3201_png.rf.9d57a5fcd57c703fc754d1ed81ee612d.jpg: 640x640 1 door, 10.0ms\n",
      "image 30/34 C:\\Users\\antan\\Desktop\\EEC174\\AURA\\YoloDoorDetector\\Training_Testing\\KemperDataset\\test\\images\\IMG_3211_png.rf.12bdf9005e765434cd9ca632f521c3c7.jpg: 640x640 1 door, 10.0ms\n",
      "image 31/34 C:\\Users\\antan\\Desktop\\EEC174\\AURA\\YoloDoorDetector\\Training_Testing\\KemperDataset\\test\\images\\IMG_3223_png.rf.c0e26fccf209de09f0b9099283c533b6.jpg: 640x640 1 door, 10.0ms\n",
      "image 32/34 C:\\Users\\antan\\Desktop\\EEC174\\AURA\\YoloDoorDetector\\Training_Testing\\KemperDataset\\test\\images\\image13_png.rf.02029bed2e091e5a57274da6ca50a26e.jpg: 640x640 2 doors, 9.0ms\n",
      "image 33/34 C:\\Users\\antan\\Desktop\\EEC174\\AURA\\YoloDoorDetector\\Training_Testing\\KemperDataset\\test\\images\\image3_png.rf.ac19b295df19c64692666cd6e2aa90de.jpg: 640x640 1 door, 9.0ms\n",
      "image 34/34 C:\\Users\\antan\\Desktop\\EEC174\\AURA\\YoloDoorDetector\\Training_Testing\\KemperDataset\\test\\images\\image7_png.rf.9309b7491e2ff821107d5defb1f22e80.jpg: 640x640 1 door, 9.0ms\n",
      "Speed: 2.6ms preprocess, 14.4ms inference, 1.9ms postprocess per image at shape (1, 3, 640, 640)\n",
      "Results saved to \u001b[1mruns\\detect\\predict8\u001b[0m\n"
     ]
    }
   ],
   "source": [
    "results = model.predict(source=\"C:\\\\Users\\\\antan\\\\Desktop\\\\EEC174\\\\AURA\\\\YoloDoorDetector\\\\Training_Testing\\\\KemperDataset\\\\test\\\\images\", conf=0.5, save=True)"
   ]
  }
 ],
 "metadata": {
  "kernelspec": {
   "display_name": "venv",
   "language": "python",
   "name": "python3"
  },
  "language_info": {
   "codemirror_mode": {
    "name": "ipython",
    "version": 3
   },
   "file_extension": ".py",
   "mimetype": "text/x-python",
   "name": "python",
   "nbconvert_exporter": "python",
   "pygments_lexer": "ipython3",
   "version": "3.11.0"
  }
 },
 "nbformat": 4,
 "nbformat_minor": 2
}
